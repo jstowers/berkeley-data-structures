{
 "cells": [
  {
   "cell_type": "markdown",
   "id": "2a19d7ce-4176-455c-8c84-000fad0ad314",
   "metadata": {},
   "source": [
    "Heap Example"
   ]
  },
  {
   "cell_type": "code",
   "execution_count": null,
   "id": "8e55a8c5-bee4-42e5-a447-8126527f1765",
   "metadata": {},
   "outputs": [],
   "source": [
    "from dsa.Heap import Heap\n",
    "    \n",
    "h = Heap()\n",
    "h.insert(10)\n",
    "h.insert(20)\n",
    "h.insert(30)\n",
    "h.insert(40)\n",
    "h.insert(50)\n",
    "h.insert(60)\n",
    "h.insert(70)\n",
    "h.insert(80)\n",
    "h.insert(100)\n",
    "h.print()"
   ]
  },
  {
   "cell_type": "markdown",
   "id": "9bf82800-d705-40db-b7c4-41da1b0b51a0",
   "metadata": {},
   "source": [
    "#### pop all of the elements"
   ]
  },
  {
   "cell_type": "code",
   "execution_count": null,
   "id": "8f7e5bda-1388-4ab4-a1a7-dbbe2528a166",
   "metadata": {},
   "outputs": [],
   "source": [
    "while h.size() > 0:\n",
    "    print(h.pop())\n",
    "    "
   ]
  },
  {
   "cell_type": "markdown",
   "id": "2cd39f60-823d-4f7a-8103-4d6b4fa9bcf0",
   "metadata": {},
   "source": [
    "#### insert elements that are not in order"
   ]
  },
  {
   "cell_type": "code",
   "execution_count": null,
   "id": "47d6ccf9-1659-4551-98d8-c0e743d90f95",
   "metadata": {},
   "outputs": [],
   "source": [
    "for i in [49, 9, 36, 16, 81, 64, 25]:\n",
    "    h.insert(i)\n",
    "    h.print()\n",
    "    print()"
   ]
  },
  {
   "cell_type": "markdown",
   "id": "ee391cb1-5199-4aff-8b89-3309e20ddb3d",
   "metadata": {},
   "source": [
    "#### pop all elements again"
   ]
  },
  {
   "cell_type": "code",
   "execution_count": null,
   "id": "ec8396b0-0930-4df2-a6be-25e986cdb228",
   "metadata": {},
   "outputs": [],
   "source": [
    "while h.size() > 0:\n",
    "    print(h.pop())"
   ]
  },
  {
   "cell_type": "code",
   "execution_count": null,
   "id": "0e5b8055-630d-4e44-93b9-9b85c1938aab",
   "metadata": {},
   "outputs": [],
   "source": [
    "h.insert(90)"
   ]
  },
  {
   "cell_type": "code",
   "execution_count": null,
   "id": "077c11da-4bfd-4a13-9b50-26e829274111",
   "metadata": {},
   "outputs": [],
   "source": [
    "h.print()"
   ]
  },
  {
   "cell_type": "code",
   "execution_count": null,
   "id": "2bc8c662-3a51-4ae1-a7fc-e1c99a8816c9",
   "metadata": {},
   "outputs": [],
   "source": [
    "h.pop()"
   ]
  },
  {
   "cell_type": "markdown",
   "id": "ed1da903-4ae6-491b-a467-727afa7f819b",
   "metadata": {},
   "source": [
    "#### minheap vs maxheap"
   ]
  },
  {
   "cell_type": "code",
   "execution_count": null,
   "id": "73e07d76-2da5-4289-a98e-8291b8590f41",
   "metadata": {},
   "outputs": [],
   "source": [
    "from HeapSolution import Heap\n",
    "maxheap = Heap(ascending=False)\n"
   ]
  },
  {
   "cell_type": "code",
   "execution_count": null,
   "id": "3b927c44-1822-4e83-bffc-fc44e0394ae1",
   "metadata": {},
   "outputs": [],
   "source": [
    "for i in [49, 9, 36, 16, 81, 64, 25]:\n",
    "    maxheap.insert(i)\n"
   ]
  },
  {
   "cell_type": "code",
   "execution_count": null,
   "id": "222bfef7-ff0d-4ef3-82f8-3991b6112f74",
   "metadata": {},
   "outputs": [],
   "source": [
    "maxheap.print()"
   ]
  },
  {
   "cell_type": "code",
   "execution_count": null,
   "id": "705e7789-dd19-4264-86df-59926a4ea818",
   "metadata": {},
   "outputs": [],
   "source": [
    "while maxheap.size() > 0:\n",
    "    print(maxheap.pop())\n"
   ]
  },
  {
   "cell_type": "code",
   "execution_count": null,
   "id": "61f3b209-0f00-47ba-a9c6-6c676ea51be7",
   "metadata": {},
   "outputs": [],
   "source": [
    "minheap = Heap()"
   ]
  },
  {
   "cell_type": "code",
   "execution_count": null,
   "id": "3d52a79d-f6f7-493d-83e0-a4382030dd72",
   "metadata": {},
   "outputs": [],
   "source": [
    "for i in [49, 9, 36, 16, 81, 64, 25]:\n",
    "    minheap.insert(i)\n"
   ]
  },
  {
   "cell_type": "code",
   "execution_count": null,
   "id": "3e41c292-3f30-4213-a6ad-424477ff4e9b",
   "metadata": {},
   "outputs": [],
   "source": [
    "minheap.print()"
   ]
  },
  {
   "cell_type": "code",
   "execution_count": null,
   "id": "beb2b090-28ea-4831-a5bf-49e6359049ce",
   "metadata": {},
   "outputs": [],
   "source": [
    "while minheap.size() > 0:\n",
    "    print(minheap.pop())\n"
   ]
  },
  {
   "cell_type": "markdown",
   "id": "f6653e15-15ef-4821-918d-021ae47bfea9",
   "metadata": {},
   "source": [
    "### Priority Queue Example"
   ]
  },
  {
   "cell_type": "markdown",
   "id": "8a19f8f9-7685-41fa-9c98-ac31e94244f6",
   "metadata": {},
   "source": [
    "a priority queue is a general abstract data type, while a heap is a specific data structure used to efficiently implement a priority queue. You can implement a priority queue using other data structures as well, but a heap is one of the most common choices due to its efficiency"
   ]
  },
  {
   "cell_type": "markdown",
   "id": "be09b77d-1328-4bf6-ac04-9fb01c1068c6",
   "metadata": {},
   "source": [
    "The following example is an implementation of a hospital queue system. \n",
    "Patients are classified by the following priorities:\n",
    "* P1 - Critical (Life threatening)\n",
    "* P2 - Emergency\n",
    "* P3 - Urgent\n",
    "* P4 - Non-urgent\n",
    "\n",
    "Each patient is also issued a ticket number, which is numbered in the order they visit the hospital.\n",
    "\n",
    "Hospitals need to treat patients in order of priority, so a priority queue must be used. This is unlike a standard queue, which is FIFO."
   ]
  },
  {
   "cell_type": "code",
   "execution_count": null,
   "id": "139bc111-5377-4383-8286-72f0004009be",
   "metadata": {},
   "outputs": [],
   "source": [
    "from HeapSolution import Heap\n",
    "\n",
    "class TicketPriorityQueue(Heap):\n",
    "    ticket_number = 0\n",
    "    TICKET_MAX = 10_000\n",
    "    \n",
    "    def __init__(self):\n",
    "        super().__init__(ascending=True)\n",
    "\n",
    "    @staticmethod\n",
    "    def ticket_to_value(priority, number):\n",
    "        return int(priority) * TicketPriorityQueue.TICKET_MAX + number\n",
    "\n",
    "    @staticmethod\n",
    "    def value_to_ticket(value):\n",
    "        priority, number = divmod(value, TicketPriorityQueue.TICKET_MAX)\n",
    "        return f\"P{priority}-{number}\"\n",
    "        \n",
    "    def insert(self, priority):\n",
    "        if len(priority) != 2 or priority[0] != \"P\":\n",
    "            raise Exception(\"Insert requires format of Pnumber, where number is between 1 and 4\")\n",
    "        self.ticket_number += 1\n",
    "        value = TicketPriorityQueue.ticket_to_value(priority[1], self.ticket_number)\n",
    "        super().insert(value)\n",
    "        \n",
    "        return TicketPriorityQueue.value_to_ticket(value)\n",
    "        \n",
    "    def pop(self):\n",
    "        return TicketPriorityQueue.value_to_ticket(super().pop())\n",
    "\n",
    "    def peek(self):\n",
    "        return super().peek()\n",
    "        \n",
    "tpq = TicketPriorityQueue()\n",
    "patients = [\"P4\", \"P3\", \"P2\", \"P1\", \"P4\", \"P3\", \"P2\", \"P3\", \"P4\", \"P1\"]\n",
    "for patient in patients:\n",
    "    ticket = tpq.insert(patient)\n",
    "    print(ticket)"
   ]
  },
  {
   "cell_type": "markdown",
   "id": "40a1f886-229e-432f-a4b0-3c95d4466e46",
   "metadata": {},
   "source": [
    "order of ticket processing"
   ]
  },
  {
   "cell_type": "code",
   "execution_count": null,
   "id": "aa12d5a4-b5dc-4e56-aeae-a1b822ccabc5",
   "metadata": {},
   "outputs": [],
   "source": [
    "while tpq.peek():\n",
    "    print(tpq.pop())"
   ]
  },
  {
   "cell_type": "code",
   "execution_count": null,
   "id": "7b8fb32f-8a77-48e7-a191-373e8bbb116b",
   "metadata": {},
   "outputs": [],
   "source": []
  }
 ],
 "metadata": {
  "kernelspec": {
   "display_name": "Python 3 (ipykernel)",
   "language": "python",
   "name": "python3"
  },
  "language_info": {
   "codemirror_mode": {
    "name": "ipython",
    "version": 3
   },
   "file_extension": ".py",
   "mimetype": "text/x-python",
   "name": "python",
   "nbconvert_exporter": "python",
   "pygments_lexer": "ipython3",
   "version": "3.11.4"
  }
 },
 "nbformat": 4,
 "nbformat_minor": 5
}
