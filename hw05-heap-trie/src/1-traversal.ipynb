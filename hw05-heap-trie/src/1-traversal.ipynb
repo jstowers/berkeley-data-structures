{
 "cells": [
  {
   "cell_type": "code",
   "execution_count": null,
   "id": "81644f6f-cc81-4d68-8f19-7ab4d11dd007",
   "metadata": {},
   "outputs": [],
   "source": [
    "from dsa.Tree import Node, Tree\n",
    "from dsa.Queue import Queue\n",
    "\n",
    "n = Node(40)\n",
    "n.left = Node(20)\n",
    "n.left.left = Node(10)\n",
    "n.left.right = Node(30)\n",
    "\n",
    "n.right = Node(60)\n",
    "n.right.left = Node(50)\n",
    "n.right.right = Node(70)\n",
    "\n",
    "t = Tree(n)\n",
    "t.print()"
   ]
  },
  {
   "cell_type": "markdown",
   "id": "be0f0c05-d1a6-4231-96bc-a3b0cd40120e",
   "metadata": {},
   "source": [
    "#### Preorder: traverse parents first, starting from the left (parent, left, right)"
   ]
  },
  {
   "cell_type": "code",
   "execution_count": null,
   "id": "2feb09fa-f308-4aa1-bf02-cd1f0a2f4c5c",
   "metadata": {},
   "outputs": [],
   "source": [
    "def preorder(node):\n",
    "    if not node:\n",
    "        return\n",
    "    print(node.value)\n",
    "    preorder(node.left)\n",
    "    preorder(node.right)\n",
    "    \n",
    "preorder(t.root)"
   ]
  },
  {
   "cell_type": "markdown",
   "id": "98c03d1d-f907-4e82-ac4c-e025d5bf803a",
   "metadata": {},
   "source": [
    "#### searching for values"
   ]
  },
  {
   "cell_type": "code",
   "execution_count": null,
   "id": "cf8676ce-43cc-429f-9dbf-0084c159615a",
   "metadata": {},
   "outputs": [],
   "source": [
    "def search_tree(node, target):\n",
    "    if not node:\n",
    "        return None\n",
    "    elif node.value == target:\n",
    "        return target\n",
    "    else:\n",
    "        return search_tree(node.left, target) or search_tree(node.right, target)\n",
    "\n",
    "search_tree(t.root, 100)"
   ]
  },
  {
   "cell_type": "code",
   "execution_count": null,
   "id": "a1187447-afbf-4276-bbe1-9a460dfe27f7",
   "metadata": {},
   "outputs": [],
   "source": [
    "search_tree(t.root, 50)"
   ]
  },
  {
   "cell_type": "markdown",
   "id": "ef2e7985-a982-4e56-8beb-df471706bee9",
   "metadata": {},
   "source": [
    "#### Inorder: left, parent then right"
   ]
  },
  {
   "cell_type": "markdown",
   "id": "9712ac33-c56d-4033-871e-00bd543308bf",
   "metadata": {
    "tags": []
   },
   "source": [
    "###### used for building a sorted list"
   ]
  },
  {
   "cell_type": "code",
   "execution_count": null,
   "id": "f9328a68-0a2f-4105-87b6-ce4c23b85961",
   "metadata": {},
   "outputs": [],
   "source": [
    "def inorder(node):\n",
    "    if not node:\n",
    "        return\n",
    "    inorder(node.left)\n",
    "    print(node.value)\n",
    "    inorder(node.right)\n",
    "\n",
    "inorder(t.root)"
   ]
  },
  {
   "cell_type": "markdown",
   "id": "72207aad-2994-4ac8-97b5-b808bf201589",
   "metadata": {},
   "source": [
    "#### Postorder: traverse leaves first (left, right, parent)"
   ]
  },
  {
   "cell_type": "code",
   "execution_count": null,
   "id": "09d498cc-3296-4845-8e88-2e3a8c01863f",
   "metadata": {},
   "outputs": [],
   "source": [
    "def postorder(node):\n",
    "    if not node:\n",
    "        return\n",
    "    postorder(node.left)\n",
    "    postorder(node.right)\n",
    "    print(node.value)\n",
    "\n",
    "postorder(t.root)"
   ]
  },
  {
   "cell_type": "markdown",
   "id": "831c1b69-4086-4c11-96d4-db88e7c88e96",
   "metadata": {},
   "source": [
    "#### tree height example"
   ]
  },
  {
   "cell_type": "code",
   "execution_count": null,
   "id": "02ef8936-ef0e-46a5-84d0-d2c7a99bbb5b",
   "metadata": {},
   "outputs": [],
   "source": [
    "def tree_height(node, height=0):\n",
    "    if not node:\n",
    "        return height\n",
    "    return max(tree_height(node.left, height + 1), tree_height(node.right, height + 1))\n",
    "\n",
    "tree_height(t.root)"
   ]
  },
  {
   "cell_type": "code",
   "execution_count": null,
   "id": "ee449866-b812-4a17-8a50-37f5d3d7362a",
   "metadata": {},
   "outputs": [],
   "source": [
    "t.root.right.right.right = Node(80)"
   ]
  },
  {
   "cell_type": "code",
   "execution_count": null,
   "id": "d5fee3c5-b3d4-4c1b-9a7a-e73a53d75546",
   "metadata": {},
   "outputs": [],
   "source": [
    "tree_height(t.root)"
   ]
  },
  {
   "cell_type": "markdown",
   "id": "7a0d27f7-4ead-4408-bf51-41e0f5388a61",
   "metadata": {},
   "source": [
    "#### Level Order (Breadth First Search)"
   ]
  },
  {
   "cell_type": "markdown",
   "id": "7b114341-c17a-4a92-98f9-152a42017d0d",
   "metadata": {},
   "source": [
    "#### print/process elements by level order"
   ]
  },
  {
   "cell_type": "code",
   "execution_count": null,
   "id": "4f65201c-a3c5-445e-93ed-06b105efc6ad",
   "metadata": {},
   "outputs": [],
   "source": [
    "def level_order(node):\n",
    "    queue = Queue()\n",
    "    queue.enqueue(node)\n",
    "\n",
    "    while not queue.is_empty():\n",
    "        current = queue.dequeue()\n",
    "        print(current.value)\n",
    "        if current.left:\n",
    "            queue.enqueue(current.left)\n",
    "        if current.right:\n",
    "            queue.enqueue(current.right)\n",
    "\n",
    "level_order(t.root)"
   ]
  },
  {
   "cell_type": "code",
   "execution_count": null,
   "id": "88a0e7c8-0a93-4e7b-b587-df8f0a040b25",
   "metadata": {},
   "outputs": [],
   "source": []
  }
 ],
 "metadata": {
  "kernelspec": {
   "display_name": "Python 3 (ipykernel)",
   "language": "python",
   "name": "python3"
  },
  "language_info": {
   "codemirror_mode": {
    "name": "ipython",
    "version": 3
   },
   "file_extension": ".py",
   "mimetype": "text/x-python",
   "name": "python",
   "nbconvert_exporter": "python",
   "pygments_lexer": "ipython3",
   "version": "3.11.4"
  }
 },
 "nbformat": 4,
 "nbformat_minor": 5
}
