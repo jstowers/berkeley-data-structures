{
 "cells": [
  {
   "cell_type": "code",
   "execution_count": null,
   "id": "1eb43b81-1a5e-42e4-9444-6060c8ae0d14",
   "metadata": {},
   "outputs": [],
   "source": [
    "from dsa.Trie import Trie"
   ]
  },
  {
   "cell_type": "code",
   "execution_count": null,
   "id": "1a4c0ed5-caae-4520-8a70-9bea4d9b8b23",
   "metadata": {},
   "outputs": [],
   "source": [
    "t = Trie()\n",
    "t.insert(\"better\")\n",
    "t.insert(\"call\")\n",
    "t.insert(\"saul\")\n",
    "t.insert(\"break\")\n",
    "t.insert(\"breaking\")\n",
    "t.insert(\"bad\")\n",
    "t.insert(\"badly\")\n",
    "t.insert(\"bask\")\n",
    "t.insert(\"basket\")\n",
    "t.insert(\"basketball\")\n",
    "print(t.print_words())"
   ]
  },
  {
   "cell_type": "markdown",
   "id": "ad44b168-a49c-49d4-8335-532363e2c16f",
   "metadata": {},
   "source": [
    "search\n",
    "* returns trie node if found\n",
    "* returns none if the string is not found\n"
   ]
  },
  {
   "cell_type": "code",
   "execution_count": null,
   "id": "9696be51-e344-4495-acdf-5f98f3bde0dd",
   "metadata": {},
   "outputs": [],
   "source": [
    "node = t.search(\"bad\")"
   ]
  },
  {
   "cell_type": "code",
   "execution_count": null,
   "id": "dac0dc43-5a6b-4804-8f4c-d147f055fa0e",
   "metadata": {},
   "outputs": [],
   "source": [
    "node"
   ]
  },
  {
   "cell_type": "code",
   "execution_count": null,
   "id": "9ca92833-ec98-4f5e-b2ad-af7f69d07484",
   "metadata": {},
   "outputs": [],
   "source": [
    "node.children"
   ]
  },
  {
   "cell_type": "code",
   "execution_count": null,
   "id": "ffe1223d-7af2-4467-acca-46a00654a820",
   "metadata": {},
   "outputs": [],
   "source": [
    "node = t.search(\"ba\")"
   ]
  },
  {
   "cell_type": "code",
   "execution_count": null,
   "id": "b865cdb4-7ebe-46c9-a086-809922b339d4",
   "metadata": {},
   "outputs": [],
   "source": [
    "node.children"
   ]
  },
  {
   "cell_type": "code",
   "execution_count": null,
   "id": "f5c5b116-a3b1-4b68-8454-f9bcd24c9635",
   "metadata": {},
   "outputs": [],
   "source": [
    "node = t.search(\"good\")"
   ]
  },
  {
   "cell_type": "code",
   "execution_count": null,
   "id": "7e47e067-d8cc-419b-ac74-90d17ac40454",
   "metadata": {},
   "outputs": [],
   "source": [
    "node = t.search(\"baddest\")"
   ]
  },
  {
   "cell_type": "markdown",
   "id": "03c40f3f-0586-46e6-b113-94eecd461515",
   "metadata": {},
   "source": [
    "autocomplete - return words that match given prefix"
   ]
  },
  {
   "cell_type": "code",
   "execution_count": null,
   "id": "f5929355-853b-483d-bacc-2700a40fbf4f",
   "metadata": {},
   "outputs": [],
   "source": [
    "t.autocomplete(\"a\")"
   ]
  },
  {
   "cell_type": "code",
   "execution_count": null,
   "id": "7cfbd38b-7bbd-442b-ade8-d0d81cd8e280",
   "metadata": {},
   "outputs": [],
   "source": [
    "t.autocomplete(\"b\")"
   ]
  },
  {
   "cell_type": "code",
   "execution_count": null,
   "id": "b7d3fc74-d0a0-448d-ba51-b2a7774cdd6f",
   "metadata": {},
   "outputs": [],
   "source": [
    "t.autocomplete(\"bad\")"
   ]
  },
  {
   "cell_type": "markdown",
   "id": "0cfe6348-7550-477f-a99e-3017d95e6917",
   "metadata": {},
   "source": [
    "suggest - return closest match by prefix"
   ]
  },
  {
   "cell_type": "code",
   "execution_count": null,
   "id": "50414caa-11f4-4ac8-9bda-6954c55c2a2f",
   "metadata": {},
   "outputs": [],
   "source": [
    "t.suggest(\"b\")"
   ]
  },
  {
   "cell_type": "code",
   "execution_count": null,
   "id": "d39426a7-6fff-4a83-a2c8-24a505e4459d",
   "metadata": {},
   "outputs": [],
   "source": [
    "t.suggest(\"brown\")"
   ]
  },
  {
   "cell_type": "code",
   "execution_count": null,
   "id": "c263d282-cde1-4eb8-a7dc-a347f68fdbd3",
   "metadata": {},
   "outputs": [],
   "source": [
    "t.suggest(\"believe\")"
   ]
  },
  {
   "cell_type": "code",
   "execution_count": null,
   "id": "802b4055-bb7b-4f45-8bb2-f2c5d640c326",
   "metadata": {},
   "outputs": [],
   "source": [
    "t.suggest(\"minton\")"
   ]
  },
  {
   "cell_type": "code",
   "execution_count": null,
   "id": "48d3bc6a-3e89-4c7a-a74e-f0799c8295c4",
   "metadata": {},
   "outputs": [],
   "source": [
    "t.suggest(\"breakneck\")"
   ]
  },
  {
   "cell_type": "markdown",
   "id": "fb0dc12a-a901-4c37-8e39-e1cc9dcafbff",
   "metadata": {
    "tags": []
   },
   "source": [
    "#### delete\n",
    "\n"
   ]
  },
  {
   "cell_type": "code",
   "execution_count": null,
   "id": "13573d37-8b60-469d-ad60-5196ca50bb59",
   "metadata": {},
   "outputs": [],
   "source": [
    "t.print_words()"
   ]
  },
  {
   "cell_type": "markdown",
   "id": "aaeea08b-7493-41f9-a16b-e3ccc256c826",
   "metadata": {},
   "source": [
    "##### delete should be post order"
   ]
  },
  {
   "cell_type": "code",
   "execution_count": null,
   "id": "2b8afb02-27d1-41fc-ae94-f5fd9b96e630",
   "metadata": {},
   "outputs": [],
   "source": [
    "t.delete(\"breaking\")"
   ]
  },
  {
   "cell_type": "code",
   "execution_count": null,
   "id": "b8b158ca-3208-44f2-bc36-07b5b73be5ce",
   "metadata": {},
   "outputs": [],
   "source": [
    "t.print_words()"
   ]
  },
  {
   "cell_type": "code",
   "execution_count": null,
   "id": "cd0b4638-ee89-4785-89d7-70070786a610",
   "metadata": {},
   "outputs": [],
   "source": [
    "t.delete(\"breaking\")"
   ]
  },
  {
   "cell_type": "code",
   "execution_count": null,
   "id": "6bb22f4f-b433-4d39-a657-af542c2e7887",
   "metadata": {},
   "outputs": [],
   "source": [
    "t.print_words()"
   ]
  },
  {
   "cell_type": "code",
   "execution_count": null,
   "id": "6beb2b46-1025-4c4b-8d7a-cacfda15f122",
   "metadata": {},
   "outputs": [],
   "source": [
    "t.insert(\"breaking\")"
   ]
  },
  {
   "cell_type": "code",
   "execution_count": null,
   "id": "64758bea-d204-4c74-ad17-dabc7224f238",
   "metadata": {},
   "outputs": [],
   "source": [
    "t.print_words()"
   ]
  },
  {
   "cell_type": "code",
   "execution_count": null,
   "id": "82d9cea0-c564-494f-8a8a-b129685b69be",
   "metadata": {},
   "outputs": [],
   "source": [
    "t.delete(\"breaking\")"
   ]
  },
  {
   "cell_type": "code",
   "execution_count": null,
   "id": "602c136d-1790-4b4f-935b-a5612819bdf0",
   "metadata": {},
   "outputs": [],
   "source": [
    "t.print_words()"
   ]
  },
  {
   "cell_type": "markdown",
   "id": "00d1b199-9290-4746-89b2-717a6b56bd44",
   "metadata": {},
   "source": [
    "##### delete preorder has unintended results"
   ]
  },
  {
   "cell_type": "code",
   "execution_count": null,
   "id": "7587ef45-c6ee-41c3-a15e-1728aaa577d5",
   "metadata": {},
   "outputs": [],
   "source": [
    "t.delete_preorder(\"saul\")"
   ]
  },
  {
   "cell_type": "code",
   "execution_count": null,
   "id": "ec2ef6db-3c47-4923-adcf-4f8935d81221",
   "metadata": {},
   "outputs": [],
   "source": [
    "t.print_words()"
   ]
  },
  {
   "cell_type": "code",
   "execution_count": null,
   "id": "7a1c9f3c-eda8-4bb2-bf23-77b86ab26a05",
   "metadata": {},
   "outputs": [],
   "source": [
    "t.delete_preorder(\"break\")"
   ]
  },
  {
   "cell_type": "code",
   "execution_count": null,
   "id": "ee80ae5d-237d-4a17-a03d-dca6898a0eeb",
   "metadata": {},
   "outputs": [],
   "source": [
    "t.print_words()"
   ]
  },
  {
   "cell_type": "code",
   "execution_count": null,
   "id": "7d8f60a2-e31e-413a-8c56-46eaa8954d96",
   "metadata": {},
   "outputs": [],
   "source": []
  },
  {
   "cell_type": "markdown",
   "id": "93fd33e2-8f93-4b9a-9470-3249d3a1e204",
   "metadata": {},
   "source": [
    "### Tries vs Arrays"
   ]
  },
  {
   "cell_type": "markdown",
   "id": "83160815-761e-4cc7-b87f-d9d841b653fa",
   "metadata": {},
   "source": [
    "naive word list - find words with prefix"
   ]
  },
  {
   "cell_type": "code",
   "execution_count": null,
   "id": "93841c52-88ee-4b91-9c0b-76b0728c3f88",
   "metadata": {
    "tags": []
   },
   "outputs": [],
   "source": [
    "def naive_word_list(word_file):\n",
    "    with open(word_file) as f:\n",
    "        wl = [word.strip() for word in f.readlines()]\n",
    "    return wl\n",
    "\n",
    "def find_words(wl, prefix):\n",
    "    return [word for word in wl if word.startswith(prefix)]\n",
    "\n",
    "wl = naive_word_list(\"words.txt\")\n",
    "            \n",
    "len(wl)         "
   ]
  },
  {
   "cell_type": "code",
   "execution_count": null,
   "id": "21b94048-4a98-4737-b63b-06dcf671154b",
   "metadata": {},
   "outputs": [],
   "source": [
    "find_words(wl, 'automat')"
   ]
  },
  {
   "cell_type": "code",
   "execution_count": null,
   "id": "9cf9c43f-4c59-4ea1-b7c7-00ff4a7f74f9",
   "metadata": {
    "tags": []
   },
   "outputs": [],
   "source": [
    "%%timeit\n",
    "matches = find_words(wl, \"automat\")\n",
    "matches = find_words(wl, \"x\")\n",
    "matches = find_words(wl, \"chroma\")\n",
    "matches = find_words(wl, \"multi\")\n"
   ]
  },
  {
   "cell_type": "code",
   "execution_count": null,
   "id": "9c281665-4ec4-4a0b-91fb-11bacdab3ca5",
   "metadata": {},
   "outputs": [],
   "source": []
  },
  {
   "cell_type": "markdown",
   "id": "32eb325c-74af-4827-9465-b2def6cd554d",
   "metadata": {},
   "source": [
    "trie find words with prefix is much faster"
   ]
  },
  {
   "cell_type": "code",
   "execution_count": null,
   "id": "504c92dd-9ac8-432d-98e3-eb0b27863cdb",
   "metadata": {},
   "outputs": [],
   "source": [
    "from dsa.Trie import Trie"
   ]
  },
  {
   "cell_type": "code",
   "execution_count": null,
   "id": "34d836a8-d2e5-4c6e-b10e-20c8754ccfe8",
   "metadata": {},
   "outputs": [],
   "source": [
    "def create_spelling_tries(word_file):\n",
    "    trie = Trie()\n",
    "    with open(word_file) as f:\n",
    "        for word in f.readlines():\n",
    "            trie.insert(word.strip())\n",
    "\n",
    "    return trie\n",
    "\n",
    "\n",
    "        "
   ]
  },
  {
   "cell_type": "code",
   "execution_count": null,
   "id": "a280b24b-4428-45ce-9386-c316de6069d5",
   "metadata": {},
   "outputs": [],
   "source": [
    "t = create_spelling_tries(\"words.txt\")"
   ]
  },
  {
   "cell_type": "code",
   "execution_count": null,
   "id": "518bf25a-315d-48a1-8d20-29a9cc9d721d",
   "metadata": {},
   "outputs": [],
   "source": [
    "t.autocomplete('automat')"
   ]
  },
  {
   "cell_type": "code",
   "execution_count": null,
   "id": "4e0c41e8-1c10-4861-9778-352993180eea",
   "metadata": {},
   "outputs": [],
   "source": [
    "%%timeit\n",
    "matches = t.autocomplete(\"automat\")\n",
    "matches = t.autocomplete(\"x\")\n",
    "matches = t.autocomplete(\"chroma\")\n",
    "matches = t.autocomplete(\"multi\")\n"
   ]
  },
  {
   "cell_type": "markdown",
   "id": "4a6676c6-f7c9-4622-a3df-d4c4a968ca78",
   "metadata": {},
   "source": [
    "spell checker"
   ]
  },
  {
   "cell_type": "code",
   "execution_count": null,
   "id": "d2c2c16d-c6b0-45c3-a441-f9a2c06f1826",
   "metadata": {},
   "outputs": [],
   "source": [
    "def check_sentence(tries, sentence):\n",
    "    misspellings = []\n",
    "    new_string = sentence.translate(str.maketrans('', '', '.?!@#()&%$'))\n",
    "    for word in new_string.lower().split():\n",
    "        print(word)\n",
    "        if not tries.search(word):\n",
    "            misspellings.append(word)\n",
    "            \n",
    "    return misspellings\n",
    "\n",
    "check_sentence(t, \"Thsi is a mispeled sentense.\")"
   ]
  },
  {
   "cell_type": "code",
   "execution_count": null,
   "id": "41ab9521-5c9b-41e0-986d-cc13c3986ca3",
   "metadata": {},
   "outputs": [],
   "source": []
  }
 ],
 "metadata": {
  "kernelspec": {
   "display_name": "Python 3 (ipykernel)",
   "language": "python",
   "name": "python3"
  },
  "language_info": {
   "codemirror_mode": {
    "name": "ipython",
    "version": 3
   },
   "file_extension": ".py",
   "mimetype": "text/x-python",
   "name": "python",
   "nbconvert_exporter": "python",
   "pygments_lexer": "ipython3",
   "version": "3.11.4"
  }
 },
 "nbformat": 4,
 "nbformat_minor": 5
}
