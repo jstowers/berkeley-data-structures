{
 "cells": [
  {
   "cell_type": "markdown",
   "id": "50119ed1-5057-4f9e-85c5-4776c4dc507a",
   "metadata": {},
   "source": [
    "Adjacency List Implementation"
   ]
  },
  {
   "cell_type": "code",
   "execution_count": null,
   "id": "b4faf3d5-edc7-420d-adbe-94eaa8851bec",
   "metadata": {},
   "outputs": [],
   "source": [
    "from dsa.Graphs import Vertex"
   ]
  },
  {
   "cell_type": "markdown",
   "id": "e3022305-a46e-444a-ad6d-e5ac09b9e89b",
   "metadata": {},
   "source": [
    "Undirected Graph"
   ]
  },
  {
   "cell_type": "markdown",
   "id": "2cd8695d-3e90-4f5f-b650-e426d45c37c5",
   "metadata": {},
   "source": [
    "<div>\n",
    "<img src=\"images/Slide1.png\" alt=\"Undirected Graph\" width=\"500\"/>\n",
    "</div>\n"
   ]
  },
  {
   "cell_type": "code",
   "execution_count": null,
   "id": "363c42da-be2a-4e31-a14b-4c3a88dcdf8b",
   "metadata": {},
   "outputs": [],
   "source": [
    "a = Vertex(\"A\")\n",
    "b = Vertex(\"B\")\n",
    "c = Vertex(\"C\")\n",
    "d = Vertex(\"D\")\n",
    "e = Vertex(\"E\")\n",
    "f = Vertex(\"F\")\n",
    "g = Vertex(\"G\")\n",
    "h = Vertex(\"H\")\n",
    "i = Vertex(\"I\")\n",
    "\n",
    "a.add_adjacent_vertex(b)\n",
    "a.add_adjacent_vertex(c)\n",
    "a.add_adjacent_vertex(d)\n",
    "\n",
    "b.add_adjacent_vertex(e)\n",
    "\n",
    "c.add_adjacent_vertex(d)\n",
    "c.add_adjacent_vertex(f)\n",
    "\n",
    "d.add_adjacent_vertex(g)\n",
    "\n",
    "e.add_adjacent_vertex(f)\n",
    "e.add_adjacent_vertex(h)\n",
    "\n",
    "f.add_adjacent_vertex(i)\n",
    "g.add_adjacent_vertex(i)\n",
    "\n",
    "h.add_adjacent_vertex(f)\n"
   ]
  },
  {
   "cell_type": "markdown",
   "id": "83e58add-adc8-4335-9724-82dfb4f570ef",
   "metadata": {},
   "source": [
    "depth first traversal"
   ]
  },
  {
   "cell_type": "code",
   "execution_count": null,
   "id": "b654ec97-c693-474b-aa04-91a3ca2f3060",
   "metadata": {},
   "outputs": [],
   "source": [
    "a.df_traverse()"
   ]
  },
  {
   "cell_type": "markdown",
   "id": "74387287-02d9-4988-a7ce-12b457d1bdfa",
   "metadata": {},
   "source": [
    "depth first search"
   ]
  },
  {
   "cell_type": "markdown",
   "id": "597eeb1f-c5b6-4782-924f-d87f728600dd",
   "metadata": {},
   "source": [
    "From A to C (Goes through E and F)"
   ]
  },
  {
   "cell_type": "code",
   "execution_count": null,
   "id": "b92954e1-5cf0-40ae-a997-efe579b3b3a6",
   "metadata": {},
   "outputs": [],
   "source": [
    "a.dfs(c)"
   ]
  },
  {
   "cell_type": "markdown",
   "id": "25291b53-79d5-446c-ba98-f16f5c6bb4d9",
   "metadata": {},
   "source": [
    "From A to I (skipped H)"
   ]
  },
  {
   "cell_type": "code",
   "execution_count": null,
   "id": "2ce8b4d7-310b-41c7-a5b5-b5b451127cf2",
   "metadata": {},
   "outputs": [],
   "source": [
    "a.dfs(i)"
   ]
  },
  {
   "cell_type": "markdown",
   "id": "43fd16fb-d6cd-486d-8d9d-5f835b68cef7",
   "metadata": {},
   "source": [
    "breadth first traversal"
   ]
  },
  {
   "cell_type": "code",
   "execution_count": null,
   "id": "243c0b8f-d29a-4dd1-a444-92178ade1d40",
   "metadata": {},
   "outputs": [],
   "source": [
    "a.bf_traverse()"
   ]
  },
  {
   "cell_type": "markdown",
   "id": "e531feef-2e06-4812-9325-4beb21ca8cbe",
   "metadata": {},
   "source": [
    "breadth first search"
   ]
  },
  {
   "cell_type": "markdown",
   "id": "e32dadf6-f79a-4181-aa1f-ae6313dcf502",
   "metadata": {},
   "source": [
    "From A to C (Goes to B also)"
   ]
  },
  {
   "cell_type": "code",
   "execution_count": null,
   "id": "dab61fa8-4c9e-49ba-92ae-fc8f503bbd63",
   "metadata": {},
   "outputs": [],
   "source": [
    "a.bfs(c)"
   ]
  },
  {
   "cell_type": "markdown",
   "id": "97205d71-a672-4ae3-981f-e804cccbbc75",
   "metadata": {},
   "source": [
    "From A to I (Goes through all vertices)"
   ]
  },
  {
   "cell_type": "code",
   "execution_count": null,
   "id": "afc992f4-7fd5-4b16-8891-34f758d05cb2",
   "metadata": {},
   "outputs": [],
   "source": [
    "a.bfs(i)"
   ]
  },
  {
   "cell_type": "markdown",
   "id": "948df465-10a5-4673-9012-7ca4cb92cddf",
   "metadata": {},
   "source": [
    "#### Directed Graph"
   ]
  },
  {
   "cell_type": "markdown",
   "id": "451a89ae-818b-4366-8615-c7612ad09516",
   "metadata": {},
   "source": [
    "<div>\n",
    "<img src=\"images/Slide2.png\" alt=\"Directed Graph\" width=\"500\"/>\n",
    "</div>\n"
   ]
  },
  {
   "cell_type": "code",
   "execution_count": null,
   "id": "4ff9a41a-9a6c-4b14-a23e-0becdab19818",
   "metadata": {},
   "outputs": [],
   "source": [
    "a = Vertex(\"A\")\n",
    "b = Vertex(\"B\")\n",
    "c = Vertex(\"C\")\n",
    "d = Vertex(\"D\")\n",
    "e = Vertex(\"E\")\n",
    "f = Vertex(\"F\")\n",
    "g = Vertex(\"G\")\n",
    "h = Vertex(\"H\")\n",
    "i = Vertex(\"I\")\n",
    "\n",
    "a.add_directed_adjacent_vertex(b)\n",
    "a.add_directed_adjacent_vertex(c)\n",
    "a.add_directed_adjacent_vertex(d)\n",
    "\n",
    "b.add_directed_adjacent_vertex(e)\n",
    "\n",
    "c.add_directed_adjacent_vertex(d)\n",
    "c.add_directed_adjacent_vertex(f)\n",
    "\n",
    "d.add_directed_adjacent_vertex(g)\n",
    "\n",
    "e.add_directed_adjacent_vertex(h)\n",
    "\n",
    "f.add_directed_adjacent_vertex(e)\n",
    "f.add_directed_adjacent_vertex(h)\n",
    "f.add_directed_adjacent_vertex(i)\n",
    "\n",
    "g.add_directed_adjacent_vertex(i)\n",
    "\n"
   ]
  },
  {
   "cell_type": "markdown",
   "id": "3fb06b78-9507-40b6-b5dd-d1f2a0fab053",
   "metadata": {},
   "source": [
    "Depth first traversal on a directed graph"
   ]
  },
  {
   "cell_type": "code",
   "execution_count": null,
   "id": "e5d85f97-6838-4f6d-9f67-db640270e2b0",
   "metadata": {},
   "outputs": [],
   "source": [
    "a.df_traverse()"
   ]
  },
  {
   "cell_type": "markdown",
   "id": "ec28378a-e22e-4b2b-b9f0-5a7a97fa421e",
   "metadata": {},
   "source": [
    "Breadth first traversal on a directed graph"
   ]
  },
  {
   "cell_type": "code",
   "execution_count": null,
   "id": "d2dbe1a3-2f4b-47e5-8cd7-ecaad6091220",
   "metadata": {},
   "outputs": [],
   "source": [
    "a.bf_traverse()"
   ]
  },
  {
   "cell_type": "code",
   "execution_count": null,
   "id": "2a0d16f1-15a3-45b9-a1da-31778dfe9150",
   "metadata": {},
   "outputs": [],
   "source": []
  }
 ],
 "metadata": {
  "kernelspec": {
   "display_name": "Python 3 (ipykernel)",
   "language": "python",
   "name": "python3"
  },
  "language_info": {
   "codemirror_mode": {
    "name": "ipython",
    "version": 3
   },
   "file_extension": ".py",
   "mimetype": "text/x-python",
   "name": "python",
   "nbconvert_exporter": "python",
   "pygments_lexer": "ipython3",
   "version": "3.11.4"
  }
 },
 "nbformat": 4,
 "nbformat_minor": 5
}
