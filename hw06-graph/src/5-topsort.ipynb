{
 "cells": [
  {
   "cell_type": "markdown",
   "id": "812e183f-92fe-49ad-8b1f-86403f3691c0",
   "metadata": {},
   "source": [
    "### Topological Sort"
   ]
  },
  {
   "cell_type": "markdown",
   "id": "935cc65c-444e-45f9-93b2-a6665d5579cb",
   "metadata": {},
   "source": [
    "Topological Sort Functions"
   ]
  },
  {
   "cell_type": "code",
   "execution_count": 1,
   "id": "0bb1cafa-731f-4342-8a2a-108cb00a303f",
   "metadata": {},
   "outputs": [],
   "source": [
    "from dsa.Graphs import Vertex\n",
    "\n",
    "def count_in_degree(graph):\n",
    "    in_degree = {}\n",
    "    queue = []\n",
    "    \n",
    "    queue.append(graph)\n",
    "    in_degree[graph] = 0\n",
    "    \n",
    "    while len(queue) > 0:\n",
    "        current = queue[0]\n",
    "        del queue[0]\n",
    "        for adjacent in current.adjacent_vertices:\n",
    "            if adjacent not in in_degree:\n",
    "                in_degree[adjacent] = 1\n",
    "            else:\n",
    "                in_degree[adjacent] += 1\n",
    "            if adjacent not in queue:\n",
    "                queue.append(adjacent)\n",
    "            \n",
    "    for v, indeg in in_degree.items():\n",
    "        print(v.value, indeg)\n",
    "        \n",
    "    return in_degree\n",
    "\n",
    "def insert_queue(in_degree, queue):\n",
    "    ''' enqueue any vertex with in-degree of 0 to the queue '''\n",
    "    for vertex, in_degrees in in_degree.items():\n",
    "        if in_degrees == 0:\n",
    "            queue.append(vertex)\n",
    "\n",
    "def top_sort(graph):\n",
    "    in_degree = count_in_degree(graph)\n",
    "    \n",
    "    queue = []\n",
    "    ordering = []\n",
    "\n",
    "    insert_queue(in_degree, queue)\n",
    "    while len(queue) > 0:\n",
    "        current = queue[0]\n",
    "        del queue[0]\n",
    "        \n",
    "        if current.value not in ordering:\n",
    "            ordering.append(current.value)\n",
    "            \n",
    "        for adjacent in current.adjacent_vertices:\n",
    "            if in_degree[adjacent] > 0:\n",
    "                in_degree[adjacent] -= 1\n",
    "                if in_degree[adjacent] == 0:\n",
    "                    queue.append(adjacent)\n",
    "    return ordering\n"
   ]
  },
  {
   "attachments": {},
   "cell_type": "markdown",
   "id": "6947019c-7419-4c5a-aace-0cf5f443b9a8",
   "metadata": {},
   "source": [
    "<div>\n",
    "<img src=\"images/Slide10.png\" alt=\"DAG\" width=\"500\"/>\n",
    "</div>\n"
   ]
  },
  {
   "cell_type": "code",
   "execution_count": null,
   "id": "e15314f1-177e-47f5-9418-26855c5a26e8",
   "metadata": {},
   "outputs": [],
   "source": [
    "a = Vertex(\"A\")\n",
    "b = Vertex(\"B\")\n",
    "c = Vertex(\"C\")\n",
    "d = Vertex(\"D\")\n",
    "e = Vertex(\"E\")\n",
    "f = Vertex(\"F\")\n",
    "g = Vertex(\"G\")\n",
    "\n",
    "\n",
    "a.add_directed_adjacent_vertex(b)\n",
    "a.add_directed_adjacent_vertex(c)\n",
    "a.add_directed_adjacent_vertex(d)\n",
    "\n",
    "b.add_directed_adjacent_vertex(e)\n",
    "c.add_directed_adjacent_vertex(e)\n",
    "\n",
    "d.add_directed_adjacent_vertex(f)\n",
    "\n",
    "e.add_directed_adjacent_vertex(g)\n",
    "f.add_directed_adjacent_vertex(g)\n",
    "\n",
    "top_sort(a)"
   ]
  },
  {
   "cell_type": "code",
   "execution_count": null,
   "id": "f7e56eae-1b2e-4dc2-8bcc-d3cadc2f45c3",
   "metadata": {},
   "outputs": [],
   "source": []
  },
  {
   "cell_type": "code",
   "execution_count": null,
   "id": "c085ad62-167d-48d3-8158-c5fefde1ca09",
   "metadata": {},
   "outputs": [],
   "source": []
  }
 ],
 "metadata": {
  "kernelspec": {
   "display_name": "Python 3 (ipykernel)",
   "language": "python",
   "name": "python3"
  },
  "language_info": {
   "codemirror_mode": {
    "name": "ipython",
    "version": 3
   },
   "file_extension": ".py",
   "mimetype": "text/x-python",
   "name": "python",
   "nbconvert_exporter": "python",
   "pygments_lexer": "ipython3",
   "version": "3.11.4"
  }
 },
 "nbformat": 4,
 "nbformat_minor": 5
}
