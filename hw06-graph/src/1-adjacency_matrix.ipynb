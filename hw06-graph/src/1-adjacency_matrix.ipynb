{
 "cells": [
  {
   "cell_type": "markdown",
   "id": "93c2e914-33e5-4603-a9d4-6e692d135d54",
   "metadata": {},
   "source": [
    "Adjacency Matrix - undirected graph"
   ]
  },
  {
   "cell_type": "code",
   "execution_count": 1,
   "id": "b4faf3d5-edc7-420d-adbe-94eaa8851bec",
   "metadata": {},
   "outputs": [],
   "source": [
    "from dsa.Graphs import AdjacencyMatrixGraph, AdjacencyMatrixWeightedGraph"
   ]
  },
  {
   "cell_type": "markdown",
   "id": "afed9e21-182b-408c-8968-1ff49c7a766c",
   "metadata": {},
   "source": [
    "<div>\n",
    "<img src=\"images/Slide5.png\" name=\"Directed Graph\" width=\"500\"/>\n",
    "</div>\n"
   ]
  },
  {
   "cell_type": "code",
   "execution_count": null,
   "id": "36cfb22e-8f2c-4010-b6d8-b0061d483b27",
   "metadata": {},
   "outputs": [],
   "source": [
    "labels = [\"A\", \"B\", \"C\", \"D\", \"E\", \"F\"]\n",
    "graph = AdjacencyMatrixGraph(labels)\n",
    "graph.print_graph()"
   ]
  },
  {
   "cell_type": "code",
   "execution_count": null,
   "id": "cf8bdf0b-d117-4ded-95fe-6cedeb06d0f2",
   "metadata": {},
   "outputs": [],
   "source": [
    "graph.add_adjacent_vertex(\"A\", \"B\") \n",
    "graph.add_adjacent_vertex(\"A\", \"D\")\n",
    "\n",
    "graph.add_adjacent_vertex(\"B\", \"C\")\n",
    "graph.add_adjacent_vertex(\"B\", \"F\")\n",
    "\n",
    "graph.add_adjacent_vertex(\"C\", \"D\")\n",
    "graph.add_adjacent_vertex(\"C\", \"F\")\n",
    "\n",
    "graph.add_adjacent_vertex(\"D\", \"E\")\n",
    "graph.add_adjacent_vertex(\"E\", \"F\")\n"
   ]
  },
  {
   "cell_type": "code",
   "execution_count": null,
   "id": "a0dbcd80-8a53-4630-b02b-db704bff584e",
   "metadata": {},
   "outputs": [],
   "source": [
    "graph.print_graph()"
   ]
  },
  {
   "cell_type": "markdown",
   "id": "dc0d09db-491e-4862-bb7d-801299dfd401",
   "metadata": {},
   "source": [
    "Directed Graph"
   ]
  },
  {
   "cell_type": "markdown",
   "id": "3de104d6-6aee-4099-b868-bde4eaac52bc",
   "metadata": {},
   "source": [
    "<div>\n",
    "<img src=\"images/Slide6.png\" alt=\"Directed Graph\" width=\"500\"/>\n",
    "</div>\n"
   ]
  },
  {
   "cell_type": "code",
   "execution_count": null,
   "id": "9e85c529-5fe0-4f5e-8970-5b5e2c54bece",
   "metadata": {},
   "outputs": [],
   "source": [
    "labels = [\"A\", \"B\", \"C\", \"D\", \"E\", \"F\"]\n",
    "dgraph = AdjacencyMatrixGraph(labels)\n",
    "dgraph.print_graph()"
   ]
  },
  {
   "cell_type": "code",
   "execution_count": null,
   "id": "f9f68c29-66fb-4680-822a-c0c62b84058b",
   "metadata": {},
   "outputs": [],
   "source": [
    "dgraph.add_adjacent_directed_vertex(\"A\", \"B\") \n",
    "dgraph.add_adjacent_directed_vertex(\"A\", \"D\")\n",
    "\n",
    "dgraph.add_adjacent_directed_vertex(\"B\", \"C\")\n",
    "dgraph.add_adjacent_directed_vertex(\"B\", \"F\")\n",
    "\n",
    "dgraph.add_adjacent_directed_vertex(\"C\", \"D\")\n",
    "dgraph.add_adjacent_directed_vertex(\"C\", \"F\")\n",
    "\n",
    "dgraph.add_adjacent_directed_vertex(\"D\", \"E\")\n",
    "dgraph.add_adjacent_directed_vertex(\"E\", \"F\")\n",
    "\n",
    "\n",
    "\n",
    "dgraph.print_graph()"
   ]
  },
  {
   "cell_type": "markdown",
   "id": "08b7cd79-e473-49c6-b12e-49e4c7542b9f",
   "metadata": {},
   "source": [
    "Weighted Graph (Directed)"
   ]
  },
  {
   "cell_type": "markdown",
   "id": "71e46650-2cb2-4c95-98ed-50770de3c246",
   "metadata": {},
   "source": [
    "<div>\n",
    "<img src=\"images/Slide6.png\" alt=\"Weighted Directed Graph\", width=\"500\"/>\n",
    "</div>\n"
   ]
  },
  {
   "cell_type": "code",
   "execution_count": null,
   "id": "2f440ed3-52ce-47cc-aa1a-a04ba2b47566",
   "metadata": {},
   "outputs": [],
   "source": [
    "labels = [\"A\", \"B\", \"C\", \"D\", \"E\", \"F\"]\n",
    "\n",
    "wgraph = AdjacencyMatrixWeightedGraph(labels)\n",
    "\n",
    "wgraph.add_adjacent_directed_vertex(\"A\", \"B\", 3) # A -> B: weight 3\n",
    "wgraph.add_adjacent_directed_vertex(\"A\", \"D\", 2) # A -> D: weight 2\n",
    "\n",
    "wgraph.add_adjacent_directed_vertex(\"B\", \"C\", 5) # B -> C: weight 5\n",
    "wgraph.add_adjacent_directed_vertex(\"B\", \"F\", 2) # B -> F: weight 2\n",
    "\n",
    "wgraph.add_adjacent_directed_vertex(\"C\", \"D\", 1)  # C -> D: weight 1\n",
    "wgraph.add_adjacent_directed_vertex(\"C\", \"F\", 10) # C -> F: weight 10\n",
    "\n",
    "wgraph.add_adjacent_directed_vertex(\"D\", \"E\", 6) # D -> E: weight 6\n",
    "wgraph.add_adjacent_directed_vertex(\"E\", \"F\", 3) # E -> F: weight 3\n",
    "wgraph.print_graph()"
   ]
  },
  {
   "cell_type": "code",
   "execution_count": null,
   "id": "664038cc-56e8-4990-9bf5-dbfe05cb06ca",
   "metadata": {},
   "outputs": [],
   "source": []
  }
 ],
 "metadata": {
  "kernelspec": {
   "display_name": "Python 3 (ipykernel)",
   "language": "python",
   "name": "python3"
  },
  "language_info": {
   "codemirror_mode": {
    "name": "ipython",
    "version": 3
   },
   "file_extension": ".py",
   "mimetype": "text/x-python",
   "name": "python",
   "nbconvert_exporter": "python",
   "pygments_lexer": "ipython3",
   "version": "3.11.4"
  }
 },
 "nbformat": 4,
 "nbformat_minor": 5
}
