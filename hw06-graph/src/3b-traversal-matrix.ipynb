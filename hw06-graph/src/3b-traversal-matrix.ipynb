{
 "cells": [
  {
   "cell_type": "markdown",
   "id": "8997a5db-58e9-491a-9d98-d6e48eb92000",
   "metadata": {},
   "source": [
    "Adjacency Matrix Implementation"
   ]
  },
  {
   "cell_type": "code",
   "execution_count": 1,
   "id": "b4faf3d5-edc7-420d-adbe-94eaa8851bec",
   "metadata": {},
   "outputs": [],
   "source": [
    "from dsa.Graphs import AdjacencyMatrixGraph"
   ]
  },
  {
   "cell_type": "markdown",
   "id": "e3022305-a46e-444a-ad6d-e5ac09b9e89b",
   "metadata": {},
   "source": [
    "Undirected Graph"
   ]
  },
  {
   "cell_type": "markdown",
   "id": "2cd8695d-3e90-4f5f-b650-e426d45c37c5",
   "metadata": {},
   "source": [
    "<div>\n",
    "<img src=\"images/Slide1.png\" alt=\"Undirected Graph\" width=\"500\"/>\n",
    "</div>\n"
   ]
  },
  {
   "cell_type": "code",
   "execution_count": null,
   "id": "047e22c8-4b55-4fb8-889f-9ca45a650b31",
   "metadata": {},
   "outputs": [],
   "source": [
    "graph = AdjacencyMatrixGraph([\"A\", \"B\", \"C\", \"D\", \"E\", \"F\", \"G\", \"H\", \"I\"])\n",
    "graph.print_graph()"
   ]
  },
  {
   "cell_type": "code",
   "execution_count": null,
   "id": "363c42da-be2a-4e31-a14b-4c3a88dcdf8b",
   "metadata": {},
   "outputs": [],
   "source": [
    "graph.add_adjacent_vertex(\"A\", \"B\")\n",
    "graph.add_adjacent_vertex(\"A\", \"C\")\n",
    "graph.add_adjacent_vertex(\"A\", \"D\")\n",
    "\n",
    "graph.add_adjacent_vertex(\"B\", \"E\")\n",
    "\n",
    "graph.add_adjacent_vertex(\"C\", \"D\")\n",
    "graph.add_adjacent_vertex(\"C\", \"F\")\n",
    "\n",
    "graph.add_adjacent_vertex(\"D\", \"G\")\n",
    "\n",
    "graph.add_adjacent_vertex(\"E\", \"F\")\n",
    "graph.add_adjacent_vertex(\"E\", \"H\")\n",
    "\n",
    "graph.add_adjacent_vertex(\"F\", \"I\")\n",
    "graph.add_adjacent_vertex(\"G\", \"I\")\n",
    "\n",
    "graph.add_adjacent_vertex(\"H\", \"F\")\n",
    "\n",
    "graph.print_graph()"
   ]
  },
  {
   "cell_type": "markdown",
   "id": "83e58add-adc8-4335-9724-82dfb4f570ef",
   "metadata": {},
   "source": [
    "depth first traversal"
   ]
  },
  {
   "cell_type": "code",
   "execution_count": null,
   "id": "b654ec97-c693-474b-aa04-91a3ca2f3060",
   "metadata": {},
   "outputs": [],
   "source": [
    "graph.df_traverse(\"A\")"
   ]
  },
  {
   "cell_type": "markdown",
   "id": "43fd16fb-d6cd-486d-8d9d-5f835b68cef7",
   "metadata": {},
   "source": [
    "breadth first traversal"
   ]
  },
  {
   "cell_type": "code",
   "execution_count": null,
   "id": "243c0b8f-d29a-4dd1-a444-92178ade1d40",
   "metadata": {},
   "outputs": [],
   "source": [
    "graph.bf_traverse(\"A\")"
   ]
  },
  {
   "cell_type": "markdown",
   "id": "948df465-10a5-4673-9012-7ca4cb92cddf",
   "metadata": {},
   "source": [
    "#### Directed Graph"
   ]
  },
  {
   "cell_type": "markdown",
   "id": "451a89ae-818b-4366-8615-c7612ad09516",
   "metadata": {},
   "source": [
    "<div>\n",
    "<img src=\"images/Slide2.png\" alt=\"Directed Graph\" width=\"500\"/>\n",
    "</div>\n"
   ]
  },
  {
   "cell_type": "code",
   "execution_count": null,
   "id": "4ff9a41a-9a6c-4b14-a23e-0becdab19818",
   "metadata": {},
   "outputs": [],
   "source": [
    "graph = AdjacencyMatrixGraph([\"A\", \"B\", \"C\", \"D\", \"E\", \"F\", \"G\", \"H\", \"I\"])\n",
    "\n",
    "graph.add_adjacent_directed_vertex(\"A\", \"B\")\n",
    "graph.add_adjacent_directed_vertex(\"A\", \"C\")\n",
    "graph.add_adjacent_directed_vertex(\"A\", \"D\")\n",
    "\n",
    "graph.add_adjacent_directed_vertex(\"B\", \"E\")\n",
    "\n",
    "graph.add_adjacent_directed_vertex(\"C\", \"D\")\n",
    "graph.add_adjacent_directed_vertex(\"C\", \"F\")\n",
    "\n",
    "graph.add_adjacent_directed_vertex(\"D\", \"G\")\n",
    "\n",
    "graph.add_adjacent_directed_vertex(\"E\", \"H\")\n",
    "\n",
    "graph.add_adjacent_directed_vertex(\"F\", \"E\")\n",
    "graph.add_adjacent_directed_vertex(\"F\", \"H\")\n",
    "graph.add_adjacent_directed_vertex(\"F\", \"I\")\n",
    "\n",
    "graph.add_adjacent_directed_vertex(\"G\", \"I\")\n",
    "\n",
    "graph.print_graph()\n"
   ]
  },
  {
   "cell_type": "markdown",
   "id": "3fb06b78-9507-40b6-b5dd-d1f2a0fab053",
   "metadata": {},
   "source": [
    "Depth first traversal on a directed graph"
   ]
  },
  {
   "cell_type": "code",
   "execution_count": null,
   "id": "e5d85f97-6838-4f6d-9f67-db640270e2b0",
   "metadata": {},
   "outputs": [],
   "source": [
    "graph.df_traverse(\"A\")"
   ]
  },
  {
   "cell_type": "markdown",
   "id": "ec28378a-e22e-4b2b-b9f0-5a7a97fa421e",
   "metadata": {},
   "source": [
    "Breadth first traversal on a directed graph"
   ]
  },
  {
   "cell_type": "code",
   "execution_count": null,
   "id": "d2dbe1a3-2f4b-47e5-8cd7-ecaad6091220",
   "metadata": {},
   "outputs": [],
   "source": [
    "graph.bf_traverse(\"A\")"
   ]
  },
  {
   "cell_type": "code",
   "execution_count": null,
   "id": "a1c13707-c2e4-461d-a3b4-cb627b1cc446",
   "metadata": {},
   "outputs": [],
   "source": []
  }
 ],
 "metadata": {
  "kernelspec": {
   "display_name": "Python 3 (ipykernel)",
   "language": "python",
   "name": "python3"
  },
  "language_info": {
   "codemirror_mode": {
    "name": "ipython",
    "version": 3
   },
   "file_extension": ".py",
   "mimetype": "text/x-python",
   "name": "python",
   "nbconvert_exporter": "python",
   "pygments_lexer": "ipython3",
   "version": "3.11.4"
  }
 },
 "nbformat": 4,
 "nbformat_minor": 5
}
