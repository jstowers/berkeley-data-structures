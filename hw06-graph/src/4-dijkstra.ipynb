{
 "cells": [
  {
   "cell_type": "code",
   "execution_count": 1,
   "id": "672405b3-6a24-41f3-986d-0a09dd4af348",
   "metadata": {},
   "outputs": [],
   "source": [
    "from dsa.Graphs import WeightedGraphVertex"
   ]
  },
  {
   "cell_type": "code",
   "execution_count": null,
   "id": "899e9163-aa44-4deb-9ee8-e750654ce2b0",
   "metadata": {},
   "outputs": [],
   "source": [
    "def shortest_path(start, end):\n",
    "    weight_table = {}\n",
    "    previous = {}\n",
    "    visited = {}\n",
    "    queue = [] # ideally, a min heap\n",
    "    \n",
    "    current = start\n",
    "    queue.append(current)\n",
    "    weight_table[current.value] = 0\n",
    "    previous[current.value] = current\n",
    "    \n",
    "    while len(queue) > 0:\n",
    "        current_weight = weight_table.get(current.value, None)\n",
    "        visited[current.value] = True\n",
    "\n",
    "        # assume a weight of 1 for non-weighted version\n",
    "        for adjacent in current.adjacent_vertices:\n",
    "            if isinstance(current.adjacent_vertices, dict): # hack\n",
    "                weight = current.adjacent_vertices[adjacent]\n",
    "            else:\n",
    "                weight = 1\n",
    "            if not visited.get(adjacent.value, False):\n",
    "                queue.append(adjacent)\n",
    "\n",
    "            wt = weight_table.get(adjacent.value, None)\n",
    "            if not wt or wt > weight + current_weight:\n",
    "                print(weight_table)\n",
    "                weight_table[adjacent.value] = weight + current_weight\n",
    "                previous[adjacent.value] = current\n",
    "\n",
    "        current = queue[0]\n",
    "        del queue[0]\n",
    "            \n",
    "    return weight_table, previous\n",
    "\n",
    "def find_path(start, end):\n",
    "    weight_table, previous = shortest_path(start, end)\n",
    "    path = []\n",
    "\n",
    "    current = end\n",
    "    path.append(current.value)\n",
    "    while current != start:\n",
    "        current = previous[current.value]\n",
    "        path.append(current.value)\n",
    "        \n",
    "    path.reverse()\n",
    "    print(\"Weight Table\")\n",
    "    print(weight_table)\n",
    "    print(\"Previous Vertex Table\")\n",
    "    print(previous)\n",
    "    print(\"Distance \", weight_table[end.value])\n",
    "    return path\n",
    "\n"
   ]
  },
  {
   "cell_type": "markdown",
   "id": "0406a575-228a-449d-8585-ce45280334be",
   "metadata": {},
   "source": [
    "<div>\n",
    "<img src=\"images/Slide7.png\" alt=\"Weighted Directed Graph\" width=\"500\"/>\n",
    "</div>\n"
   ]
  },
  {
   "cell_type": "code",
   "execution_count": null,
   "id": "1352b08f-9f4d-44d9-9ddd-88831f4258d5",
   "metadata": {},
   "outputs": [],
   "source": [
    "a = WeightedGraphVertex(\"a\")\n",
    "b = WeightedGraphVertex(\"b\")\n",
    "c = WeightedGraphVertex(\"c\")\n",
    "d = WeightedGraphVertex(\"d\")\n",
    "e = WeightedGraphVertex(\"e\")\n",
    "f = WeightedGraphVertex(\"f\")\n",
    "\n",
    "a.add_directed_adjacent_vertex(b, 3)\n",
    "a.add_directed_adjacent_vertex(d, 4)\n",
    "a.add_directed_adjacent_vertex(f, 20)\n",
    "\n",
    "b.add_directed_adjacent_vertex(c, 4)\n",
    "c.add_directed_adjacent_vertex(f, 5)\n",
    "d.add_directed_adjacent_vertex(e, 5)\n",
    "\n",
    "e.add_directed_adjacent_vertex(b, 2)\n",
    "e.add_directed_adjacent_vertex(f, 2)"
   ]
  },
  {
   "cell_type": "code",
   "execution_count": null,
   "id": "77c8929c-6381-4729-a990-98601869e525",
   "metadata": {},
   "outputs": [],
   "source": [
    "find_path(a, f)"
   ]
  },
  {
   "cell_type": "markdown",
   "id": "9a05f1c6-c2c9-4cac-9deb-d0bf1a90f001",
   "metadata": {},
   "source": [
    "undirected version gives different results"
   ]
  },
  {
   "cell_type": "markdown",
   "id": "0f51f629-86f5-4b32-82cd-79141b79a80b",
   "metadata": {},
   "source": [
    "<div>\n",
    "<img src=\"images/Slide9.png\" alt=\"Weighted Undirected Graph\" width=\"500\"/>\n",
    "</div>\n"
   ]
  },
  {
   "cell_type": "code",
   "execution_count": null,
   "id": "2a8beed1-56ae-4026-87a4-682d10bd9b90",
   "metadata": {},
   "outputs": [],
   "source": [
    "a = WeightedGraphVertex(\"a\")\n",
    "b = WeightedGraphVertex(\"b\")\n",
    "c = WeightedGraphVertex(\"c\")\n",
    "d = WeightedGraphVertex(\"d\")\n",
    "e = WeightedGraphVertex(\"e\")\n",
    "f = WeightedGraphVertex(\"f\")\n",
    "\n",
    "a.add_adjacent_vertex(b, 3)\n",
    "a.add_adjacent_vertex(d, 4)\n",
    "a.add_adjacent_vertex(f, 20)\n",
    "\n",
    "b.add_adjacent_vertex(c, 4)\n",
    "c.add_adjacent_vertex(f, 5)\n",
    "d.add_adjacent_vertex(e, 5)\n",
    "\n",
    "e.add_adjacent_vertex(b, 2)\n",
    "e.add_adjacent_vertex(f, 2)"
   ]
  },
  {
   "cell_type": "code",
   "execution_count": null,
   "id": "30110cfb-6673-4a50-a0c5-dab251d272a8",
   "metadata": {},
   "outputs": [],
   "source": [
    "find_path(a, f)"
   ]
  },
  {
   "cell_type": "markdown",
   "id": "71beb978-7a9b-4bb5-a579-7bfd39097ea5",
   "metadata": {},
   "source": [
    "non-weighted version = BFS"
   ]
  },
  {
   "cell_type": "code",
   "execution_count": 2,
   "id": "12feeb6a-cf4c-41e1-a5f4-5abc5b8f7ec0",
   "metadata": {},
   "outputs": [],
   "source": [
    "from dsa.Graphs import Vertex\n",
    "a = Vertex(\"a\")\n",
    "b = Vertex(\"b\")\n",
    "c = Vertex(\"c\")\n",
    "d = Vertex(\"d\")\n",
    "e = Vertex(\"e\")\n",
    "f = Vertex(\"f\")\n",
    "\n",
    "a.add_adjacent_vertex(b)\n",
    "a.add_adjacent_vertex(d)\n",
    "a.add_adjacent_vertex(f)\n",
    "\n",
    "b.add_adjacent_vertex(c)\n",
    "c.add_adjacent_vertex(f)\n",
    "d.add_adjacent_vertex(e)\n",
    "\n",
    "e.add_adjacent_vertex(b)\n",
    "e.add_adjacent_vertex(f)"
   ]
  },
  {
   "cell_type": "code",
   "execution_count": null,
   "id": "1bc23c4c-20dd-4e93-8577-39f510c5f374",
   "metadata": {},
   "outputs": [],
   "source": [
    "find_path(a, f)"
   ]
  },
  {
   "cell_type": "markdown",
   "id": "66799ea8-4f97-449f-895c-57e054b213e6",
   "metadata": {},
   "source": [
    "![title](traversal_example/Slide3.png)\n"
   ]
  },
  {
   "cell_type": "code",
   "execution_count": null,
   "id": "a2eccf48-3588-4716-b1d9-8f8a87663a28",
   "metadata": {},
   "outputs": [],
   "source": [
    "af = WeightedGraphVertex(\"Africa\")\n",
    "asia = WeightedGraphVertex(\"Asia\")\n",
    "au = WeightedGraphVertex(\"Australia\")\n",
    "eu = WeightedGraphVertex(\"Europe\")\n",
    "gl = WeightedGraphVertex(\"Greenland\")\n",
    "na = WeightedGraphVertex(\"North America\")\n",
    "sa = WeightedGraphVertex(\"South America\")\n",
    "\n",
    "af.add_adjacent_vertex(eu, 2)\n",
    "af.add_adjacent_vertex(asia, 2)\n",
    "af.add_adjacent_vertex(au, 10)\n",
    "af.add_adjacent_vertex(sa, 2)\n",
    "\n",
    "asia.add_adjacent_vertex(au, 3)\n",
    "asia.add_adjacent_vertex(eu, 1)\n",
    "\n",
    "eu.add_adjacent_vertex(gl, 3)\n",
    "eu.add_adjacent_vertex(na, 8)\n",
    "\n",
    "gl.add_adjacent_vertex(na, 2)\n",
    "\n",
    "na.add_adjacent_vertex(sa, 1)\n",
    "\n",
    "\n"
   ]
  },
  {
   "cell_type": "markdown",
   "id": "ed504357-32ae-45a3-8817-3d3403b7a8b4",
   "metadata": {},
   "source": [
    "North America to Australia"
   ]
  },
  {
   "cell_type": "code",
   "execution_count": null,
   "id": "0026c93c-c332-4713-93f2-56188eedfd0d",
   "metadata": {},
   "outputs": [],
   "source": [
    "find_path(na, au)"
   ]
  },
  {
   "cell_type": "markdown",
   "id": "5decdf8b-50a8-44c4-9d0e-f760daa7644c",
   "metadata": {},
   "source": [
    "Australia to North America"
   ]
  },
  {
   "cell_type": "code",
   "execution_count": null,
   "id": "616369bb-f26b-4491-9213-e6590bc23dea",
   "metadata": {},
   "outputs": [],
   "source": [
    "find_path(au, na)"
   ]
  },
  {
   "cell_type": "markdown",
   "id": "2f1e309b-437e-4256-ac3c-90658dc67320",
   "metadata": {},
   "source": [
    "South America to Asia"
   ]
  },
  {
   "cell_type": "code",
   "execution_count": null,
   "id": "d9514e41-ab56-4c5b-8dc8-f78a68870900",
   "metadata": {},
   "outputs": [],
   "source": [
    "find_path(sa, asia)"
   ]
  },
  {
   "cell_type": "code",
   "execution_count": null,
   "id": "aa1167b8-a7f5-448d-9531-67fcbe22d284",
   "metadata": {},
   "outputs": [],
   "source": []
  }
 ],
 "metadata": {
  "kernelspec": {
   "display_name": "Python 3 (ipykernel)",
   "language": "python",
   "name": "python3"
  },
  "language_info": {
   "codemirror_mode": {
    "name": "ipython",
    "version": 3
   },
   "file_extension": ".py",
   "mimetype": "text/x-python",
   "name": "python",
   "nbconvert_exporter": "python",
   "pygments_lexer": "ipython3",
   "version": "3.11.4"
  }
 },
 "nbformat": 4,
 "nbformat_minor": 5
}
