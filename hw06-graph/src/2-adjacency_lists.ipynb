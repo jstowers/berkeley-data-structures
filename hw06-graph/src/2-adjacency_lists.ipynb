{
 "cells": [
  {
   "cell_type": "code",
   "execution_count": 1,
   "id": "b4faf3d5-edc7-420d-adbe-94eaa8851bec",
   "metadata": {},
   "outputs": [],
   "source": [
    "from dsa.Graphs import Vertex"
   ]
  },
  {
   "cell_type": "markdown",
   "id": "e3022305-a46e-444a-ad6d-e5ac09b9e89b",
   "metadata": {},
   "source": [
    "#### Undirected Graph"
   ]
  },
  {
   "cell_type": "markdown",
   "id": "06204e2c-c3d5-4415-be61-885502b55c98",
   "metadata": {},
   "source": [
    "<div>\n",
    "<img src=\"images/Slide5.png\" alt=\"Unirected Graph\" width=\"500\"/>\n",
    "</div>\n"
   ]
  },
  {
   "cell_type": "code",
   "execution_count": null,
   "id": "363c42da-be2a-4e31-a14b-4c3a88dcdf8b",
   "metadata": {},
   "outputs": [],
   "source": [
    "a = Vertex(\"A\")\n",
    "b = Vertex(\"B\")\n",
    "c = Vertex(\"C\")\n",
    "d = Vertex(\"D\")\n",
    "e = Vertex(\"E\")\n",
    "f = Vertex(\"F\")\n",
    "a.add_adjacent_vertex(b)\n",
    "a.add_adjacent_vertex(d)\n",
    "\n",
    "b.add_adjacent_vertex(a)\n",
    "b.add_adjacent_vertex(c)\n",
    "b.add_adjacent_vertex(f)\n",
    "\n",
    "c.add_adjacent_vertex(b)\n",
    "c.add_adjacent_vertex(d)\n",
    "c.add_adjacent_vertex(f)\n",
    "\n",
    "d.add_adjacent_vertex(a)\n",
    "d.add_adjacent_vertex(c)\n",
    "d.add_adjacent_vertex(e)\n",
    "\n",
    "e.add_adjacent_vertex(d)\n",
    "e.add_adjacent_vertex(f)\n",
    "\n",
    "f.add_adjacent_vertex(b)\n",
    "f.add_adjacent_vertex(c)\n",
    "f.add_adjacent_vertex(e)\n"
   ]
  },
  {
   "cell_type": "code",
   "execution_count": null,
   "id": "4e122b38-c5f3-4eca-ab45-abc88b4f087e",
   "metadata": {},
   "outputs": [],
   "source": [
    "a.adjacent_vertices"
   ]
  },
  {
   "cell_type": "code",
   "execution_count": null,
   "id": "aaa08c13-61aa-4607-a674-69ec60fe95ab",
   "metadata": {},
   "outputs": [],
   "source": [
    "b.adjacent_vertices"
   ]
  },
  {
   "cell_type": "code",
   "execution_count": null,
   "id": "a7fa6efb-373c-42b8-8e69-9a91aee72b4d",
   "metadata": {},
   "outputs": [],
   "source": [
    "c.adjacent_vertices"
   ]
  },
  {
   "cell_type": "code",
   "execution_count": null,
   "id": "c8270486-9a64-4faf-bdc8-3370c99f2d91",
   "metadata": {},
   "outputs": [],
   "source": [
    "d.adjacent_vertices"
   ]
  },
  {
   "cell_type": "code",
   "execution_count": null,
   "id": "812fedbb-e7a9-41d0-b449-e30d8e2c15b9",
   "metadata": {},
   "outputs": [],
   "source": [
    "e.adjacent_vertices"
   ]
  },
  {
   "cell_type": "code",
   "execution_count": null,
   "id": "0bce61b2-1aea-4731-950a-1c2be15e88f0",
   "metadata": {},
   "outputs": [],
   "source": [
    "f.adjacent_vertices"
   ]
  },
  {
   "cell_type": "markdown",
   "id": "948df465-10a5-4673-9012-7ca4cb92cddf",
   "metadata": {},
   "source": [
    "#### Directed Graph"
   ]
  },
  {
   "cell_type": "markdown",
   "id": "cb874864-21b5-4fdc-b0d1-0bd618598a50",
   "metadata": {},
   "source": [
    "<div>\n",
    "<img src=\"images/Slide6.png\" alt=\"Directed Graph\" width=\"500\"/>\n",
    "</div>\n"
   ]
  },
  {
   "cell_type": "code",
   "execution_count": null,
   "id": "4ff9a41a-9a6c-4b14-a23e-0becdab19818",
   "metadata": {},
   "outputs": [],
   "source": [
    "a = Vertex(\"A\")\n",
    "b = Vertex(\"B\")\n",
    "c = Vertex(\"C\")\n",
    "d = Vertex(\"D\")\n",
    "e = Vertex(\"E\")\n",
    "f = Vertex(\"F\")\n",
    "\n",
    "a.add_directed_adjacent_vertex(b)\n",
    "a.add_directed_adjacent_vertex(d)\n",
    "\n",
    "b.add_directed_adjacent_vertex(c)\n",
    "b.add_directed_adjacent_vertex(f)\n",
    "\n",
    "c.add_directed_adjacent_vertex(d)\n",
    "c.add_directed_adjacent_vertex(f)\n",
    "\n",
    "d.add_directed_adjacent_vertex(e)\n",
    "\n",
    "e.add_directed_adjacent_vertex(f)\n"
   ]
  },
  {
   "cell_type": "code",
   "execution_count": null,
   "id": "f3a3d1cf-cc1b-4f90-a13a-a9fcb8301a4e",
   "metadata": {},
   "outputs": [],
   "source": [
    "a.adjacent_vertices"
   ]
  },
  {
   "cell_type": "code",
   "execution_count": null,
   "id": "bc4c9f8d-a9ef-499e-8efe-fbcbf250510d",
   "metadata": {},
   "outputs": [],
   "source": [
    "b.adjacent_vertices"
   ]
  },
  {
   "cell_type": "code",
   "execution_count": null,
   "id": "515a633a-d177-40fc-9630-14dcef1b0c69",
   "metadata": {},
   "outputs": [],
   "source": [
    "c.adjacent_vertices"
   ]
  },
  {
   "cell_type": "code",
   "execution_count": null,
   "id": "2247e403-742f-4182-b246-c9e9187054cf",
   "metadata": {},
   "outputs": [],
   "source": [
    "d.adjacent_vertices"
   ]
  },
  {
   "cell_type": "code",
   "execution_count": null,
   "id": "4e0da970-0ff7-4dc1-bf6e-3e65a2ed7bf6",
   "metadata": {},
   "outputs": [],
   "source": [
    "e.adjacent_vertices"
   ]
  },
  {
   "cell_type": "code",
   "execution_count": null,
   "id": "db323190-5a80-4fec-abf2-84c32776d09d",
   "metadata": {},
   "outputs": [],
   "source": [
    "f.adjacent_vertices"
   ]
  },
  {
   "cell_type": "markdown",
   "id": "470a216c-4fe5-455c-ad28-0ec80cb91036",
   "metadata": {},
   "source": [
    "#### Weighted Graph"
   ]
  },
  {
   "cell_type": "markdown",
   "id": "59b06311-daf5-4767-8388-71f7a63be0e9",
   "metadata": {},
   "source": [
    "<div>\n",
    "<img src=\"images/Slide7.png\" alt=\"Weighted Directed Graph\" width=\"500\"/>\n",
    "</div>\n"
   ]
  },
  {
   "cell_type": "code",
   "execution_count": 2,
   "id": "5ee023b8-6029-4e12-aacd-17a62e8833f3",
   "metadata": {},
   "outputs": [],
   "source": [
    "from dsa.Graphs import WeightedGraphVertex"
   ]
  },
  {
   "cell_type": "code",
   "execution_count": null,
   "id": "4341e456-4136-42e4-9a9b-a565c83b6c22",
   "metadata": {},
   "outputs": [],
   "source": [
    "a = WeightedGraphVertex(\"A\")\n",
    "b = WeightedGraphVertex(\"B\")\n",
    "c = WeightedGraphVertex(\"C\")\n",
    "d = WeightedGraphVertex(\"D\")\n",
    "e = WeightedGraphVertex(\"E\")\n",
    "f = WeightedGraphVertex(\"F\")\n",
    "\n",
    "a.add_adjacent_vertex(b, 3)\n",
    "a.add_adjacent_vertex(d, 2)\n",
    "\n",
    "b.add_adjacent_vertex(c, 5)\n",
    "b.add_adjacent_vertex(f, 2)\n",
    "\n",
    "c.add_adjacent_vertex(d, 1)\n",
    "c.add_adjacent_vertex(f, 10)\n",
    "\n",
    "d.add_adjacent_vertex(e, 6)\n",
    "\n",
    "e.add_adjacent_vertex(f, 3)\n"
   ]
  },
  {
   "cell_type": "code",
   "execution_count": null,
   "id": "df4f0cd5-7221-444a-a8fb-46ba4a2b977a",
   "metadata": {},
   "outputs": [],
   "source": [
    "a.adjacent_vertices"
   ]
  },
  {
   "cell_type": "code",
   "execution_count": null,
   "id": "aa0b3772-0a6e-4032-8f04-9e7a9e8ddceb",
   "metadata": {},
   "outputs": [],
   "source": [
    "b.adjacent_vertices"
   ]
  },
  {
   "cell_type": "code",
   "execution_count": null,
   "id": "b49034f1-a0cd-462c-b230-f3aa87c8cb9a",
   "metadata": {},
   "outputs": [],
   "source": [
    "c.adjacent_vertices"
   ]
  },
  {
   "cell_type": "code",
   "execution_count": null,
   "id": "817594de-a3f8-4cf4-88d4-ef5fe84a81cd",
   "metadata": {},
   "outputs": [],
   "source": [
    "d.adjacent_vertices"
   ]
  },
  {
   "cell_type": "code",
   "execution_count": null,
   "id": "41c9571d-3e7b-4154-bcf6-cad120bbd48d",
   "metadata": {},
   "outputs": [],
   "source": [
    "e.adjacent_vertices"
   ]
  },
  {
   "cell_type": "code",
   "execution_count": null,
   "id": "8b3e1806-7197-4e4f-9a98-0a23a3e2297a",
   "metadata": {},
   "outputs": [],
   "source": [
    "f.adjacent_vertices"
   ]
  },
  {
   "cell_type": "code",
   "execution_count": null,
   "id": "c431ef9b-079e-414a-b5d3-2150cacc1239",
   "metadata": {},
   "outputs": [],
   "source": []
  }
 ],
 "metadata": {
  "kernelspec": {
   "display_name": "Python 3 (ipykernel)",
   "language": "python",
   "name": "python3"
  },
  "language_info": {
   "codemirror_mode": {
    "name": "ipython",
    "version": 3
   },
   "file_extension": ".py",
   "mimetype": "text/x-python",
   "name": "python",
   "nbconvert_exporter": "python",
   "pygments_lexer": "ipython3",
   "version": "3.11.4"
  }
 },
 "nbformat": 4,
 "nbformat_minor": 5
}
