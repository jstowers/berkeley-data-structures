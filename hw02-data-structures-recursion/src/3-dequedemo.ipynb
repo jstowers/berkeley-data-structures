{
 "cells": [
  {
   "cell_type": "code",
   "execution_count": 1,
   "id": "bf76b326-7303-497a-b98f-a2289d351a7b",
   "metadata": {},
   "outputs": [],
   "source": [
    "import deque\n",
    "\n",
    "dq = deque.Deque()"
   ]
  },
  {
   "cell_type": "code",
   "execution_count": null,
   "id": "ba0431aa-8b2c-44e4-868f-64f3fc8bdbbe",
   "metadata": {},
   "outputs": [],
   "source": [
    "# peek empty\n",
    "print(dq.peek_left())"
   ]
  },
  {
   "cell_type": "code",
   "execution_count": null,
   "id": "d81eb9cd-d551-4050-8de3-c2373c40ca8c",
   "metadata": {},
   "outputs": [],
   "source": [
    "print(dq.peek_right())"
   ]
  },
  {
   "cell_type": "code",
   "execution_count": null,
   "id": "707fc937-8ba9-4bf5-84dd-1ff45565493a",
   "metadata": {},
   "outputs": [],
   "source": [
    "# test one element"
   ]
  },
  {
   "cell_type": "code",
   "execution_count": null,
   "id": "405dddf2-65be-446e-af49-c607421eb89d",
   "metadata": {},
   "outputs": [],
   "source": [
    "dq = deque.Deque()\n",
    "dq.append_left(1)\n",
    "print(dq.peek_left())\n",
    "print(dq.peek_right())"
   ]
  },
  {
   "cell_type": "code",
   "execution_count": null,
   "id": "858b4ab3-a4d6-494d-8a41-ea2be1f69d6e",
   "metadata": {},
   "outputs": [],
   "source": [
    "dq = deque.Deque()\n",
    "dq.append_right(1)\n",
    "print(dq.peek_left())\n",
    "print(dq.peek_right())"
   ]
  },
  {
   "cell_type": "markdown",
   "id": "3b7eed80-f0fd-4a52-b18a-09d899b5e29b",
   "metadata": {},
   "source": [
    "#### append left, pop left - stack behavior"
   ]
  },
  {
   "cell_type": "code",
   "execution_count": null,
   "id": "cf012c36-4470-4c71-8e52-6c8cfb36f006",
   "metadata": {},
   "outputs": [],
   "source": [
    "dq = deque.Deque()\n",
    "for i in range(10):\n",
    "    dq.append_left(i)\n",
    "\n",
    "while not dq.is_empty():\n",
    "    print(dq.pop_left())"
   ]
  },
  {
   "cell_type": "markdown",
   "id": "847052ef-e3b1-44a0-b1eb-7d91655f964e",
   "metadata": {},
   "source": [
    "#### append right, pop right - stack behavior"
   ]
  },
  {
   "cell_type": "code",
   "execution_count": null,
   "id": "41555210-5ac1-4f8b-9387-ab9515d94ca2",
   "metadata": {},
   "outputs": [],
   "source": [
    "dq = deque.Deque()\n",
    "for i in range(10):\n",
    "    dq.append_right(i)\n",
    "\n",
    "while not dq.is_empty():\n",
    "    print(dq.pop_right())"
   ]
  },
  {
   "cell_type": "markdown",
   "id": "22f399cf-a810-47d2-ab58-689c2972f34c",
   "metadata": {},
   "source": [
    "#### append left, pop right - queue behavior"
   ]
  },
  {
   "cell_type": "code",
   "execution_count": null,
   "id": "f51c8316-3313-4b70-b576-bfd5414d2415",
   "metadata": {},
   "outputs": [],
   "source": [
    "dq = deque.Deque()\n",
    "for i in range(10):\n",
    "    dq.append_left(i)\n",
    "\n",
    "while not dq.is_empty():\n",
    "    print(dq.pop_right())"
   ]
  },
  {
   "cell_type": "markdown",
   "id": "3de640de-18a5-4abe-967c-52913f161652",
   "metadata": {},
   "source": [
    "#### append right, pop left - queue behavior"
   ]
  },
  {
   "cell_type": "code",
   "execution_count": null,
   "id": "99590b8f-8f1c-4f59-80cb-c658d610d354",
   "metadata": {},
   "outputs": [],
   "source": [
    "dq = deque.Deque()\n",
    "for i in range(10):\n",
    "    dq.append_right(i)\n",
    "\n",
    "while not dq.is_empty():\n",
    "    print(dq.pop_left())"
   ]
  },
  {
   "cell_type": "code",
   "execution_count": null,
   "id": "314d8f03-331a-402d-b65e-878da87932fc",
   "metadata": {},
   "outputs": [],
   "source": []
  }
 ],
 "metadata": {
  "kernelspec": {
   "display_name": "Python 3 (ipykernel)",
   "language": "python",
   "name": "python3"
  },
  "language_info": {
   "codemirror_mode": {
    "name": "ipython",
    "version": 3
   },
   "file_extension": ".py",
   "mimetype": "text/x-python",
   "name": "python",
   "nbconvert_exporter": "python",
   "pygments_lexer": "ipython3",
   "version": "3.11.4"
  }
 },
 "nbformat": 4,
 "nbformat_minor": 5
}
