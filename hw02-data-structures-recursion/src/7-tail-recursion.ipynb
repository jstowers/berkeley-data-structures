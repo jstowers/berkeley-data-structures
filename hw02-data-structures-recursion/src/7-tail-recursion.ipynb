{
 "cells": [
  {
   "cell_type": "code",
   "execution_count": 1,
   "id": "3f46282e-6897-4880-af79-d67818f8ce59",
   "metadata": {},
   "outputs": [
    {
     "data": {
      "text/plain": [
       "3628800"
      ]
     },
     "execution_count": 1,
     "metadata": {},
     "output_type": "execute_result"
    }
   ],
   "source": [
    "def factorial(n):\n",
    "    if n <= 1:\n",
    "        return 1\n",
    "    return n * factorial(n - 1)\n",
    "\n",
    "factorial(10)"
   ]
  },
  {
   "cell_type": "code",
   "execution_count": 3,
   "id": "3e43805c-9ba8-47f7-a37b-67027e3eac26",
   "metadata": {},
   "outputs": [
    {
     "data": {
      "text/plain": [
       "3628800"
      ]
     },
     "execution_count": 3,
     "metadata": {},
     "output_type": "execute_result"
    }
   ],
   "source": [
    "def factorial_tail(n, prod=1):\n",
    "    if n <= 1:\n",
    "        return prod\n",
    "    return factorial_tail(n - 1, n * prod)\n",
    "    \n",
    "factorial_tail(10)"
   ]
  },
  {
   "cell_type": "code",
   "execution_count": 4,
   "id": "e74ef407-6968-4228-a675-e6db72f8f3f3",
   "metadata": {},
   "outputs": [
    {
     "data": {
      "text/plain": [
       "10"
      ]
     },
     "execution_count": 4,
     "metadata": {},
     "output_type": "execute_result"
    }
   ],
   "source": [
    "def mysum(array):\n",
    "    if len(array) == 0:\n",
    "        return 0\n",
    "    return array[0] + mysum(array[1:])\n",
    "mysum([1, 2, 3, 4])"
   ]
  },
  {
   "cell_type": "code",
   "execution_count": 5,
   "id": "0a5bdfc3-be4f-4d27-bcf6-71d8a3751a10",
   "metadata": {},
   "outputs": [
    {
     "data": {
      "text/plain": [
       "10"
      ]
     },
     "execution_count": 5,
     "metadata": {},
     "output_type": "execute_result"
    }
   ],
   "source": [
    "def mysum_tail(array, total=0):\n",
    "    if len(array) == 0:\n",
    "        return total\n",
    "    return mysum_tail(array[1:], array[0] + total)\n",
    "mysum_tail([1, 2, 3, 4])"
   ]
  },
  {
   "cell_type": "code",
   "execution_count": 7,
   "id": "fee9c61f-d865-41ab-9f7c-df42535ad78d",
   "metadata": {},
   "outputs": [
    {
     "name": "stdout",
     "output_type": "stream",
     "text": [
      "2\n",
      "-1\n"
     ]
    }
   ],
   "source": [
    "def search(array, target, i=0):\n",
    "    if i >= len(array):\n",
    "        return -1\n",
    "\n",
    "    if array[i] == target:\n",
    "        return i\n",
    "    else:\n",
    "        return search(array, target, i + 1)\n",
    "\n",
    "print(search([10, 20, 30, 40], 30))\n",
    "print(search([10, 20, 30, 40], 0))\n"
   ]
  },
  {
   "cell_type": "markdown",
   "id": "58347912-3ecb-453a-8184-b015b9ce8237",
   "metadata": {},
   "source": [
    "Fibonacci Series"
   ]
  },
  {
   "cell_type": "markdown",
   "id": "03ca718d-bb8b-41f6-8e7b-1c61c36e2f88",
   "metadata": {},
   "source": [
    "Each number in the fibonacci series is the sum of the previous two"
   ]
  },
  {
   "cell_type": "markdown",
   "id": "15482562-f45f-4df2-ab99-b5f68d58ceba",
   "metadata": {},
   "source": [
    "\n",
    "F(n) = F(n - 1) + F(n - 2)\n"
   ]
  },
  {
   "cell_type": "markdown",
   "id": "8a2bcdac-0430-4145-9d1c-cd4a677487d3",
   "metadata": {},
   "source": [
    "|n|0| 1|2 |3 |4 |5| 6| 7|8|9|\n",
    "|-|-|-|-|-|--|--|--|--|--|--|\n",
    "|F(n)|0|1|1|2| 3| 5| 8| 13|21|34|\n",
    "\n"
   ]
  },
  {
   "cell_type": "markdown",
   "id": "f5d410ad-7f40-4c9b-8fec-83e106cbb385",
   "metadata": {},
   "source": [
    "Iterative Version"
   ]
  },
  {
   "cell_type": "code",
   "execution_count": null,
   "id": "41d4dcf4-10cb-494e-89f8-094070c1fdda",
   "metadata": {},
   "outputs": [],
   "source": [
    "def fib_iter(n):\n",
    "    a = 0\n",
    "    b = 1\n",
    "    for i in range(n):\n",
    "        tmp = a\n",
    "        a = a + b\n",
    "        b = tmp\n",
    "    return a"
   ]
  },
  {
   "cell_type": "markdown",
   "id": "29a8182b-57b1-441c-a9d5-aa0c41cc5592",
   "metadata": {},
   "source": [
    "print the first 10 numbers of the Fibonacci series"
   ]
  },
  {
   "cell_type": "code",
   "execution_count": null,
   "id": "15cb83be-9ded-44d4-8fc4-572ce0c63ebf",
   "metadata": {},
   "outputs": [],
   "source": [
    "for n in range(10):\n",
    "    print(n, \"\\t\", fib_iter(n))    "
   ]
  },
  {
   "cell_type": "markdown",
   "id": "96745a06-03a2-4218-96c1-05e9cac2ee3a",
   "metadata": {},
   "source": [
    "Benchmark For Iterative Fibonacci"
   ]
  },
  {
   "cell_type": "code",
   "execution_count": null,
   "id": "229075f0-f7fb-497b-b6dc-6ba22a38da38",
   "metadata": {},
   "outputs": [],
   "source": [
    "%%time\n",
    "fib_iter(40)\n"
   ]
  },
  {
   "cell_type": "markdown",
   "id": "afb5be87-7e35-4da3-802f-66aaee64cf03",
   "metadata": {},
   "source": [
    "Naive Recursive Fibonacci"
   ]
  },
  {
   "cell_type": "code",
   "execution_count": null,
   "id": "ae79fd01-eb01-4017-b766-777412dd0c81",
   "metadata": {
    "tags": []
   },
   "outputs": [],
   "source": [
    "def fib_rec(n):\n",
    "    if n == 1:\n",
    "        return 1\n",
    "    elif n <= 0:\n",
    "        return 0\n",
    "    return fib_rec(n - 1) + fib_rec(n - 2)"
   ]
  },
  {
   "cell_type": "markdown",
   "id": "f90e2e22-7172-4323-820c-cf7587b89d00",
   "metadata": {},
   "source": [
    "print the first 10 numbers of the Fibonacci series"
   ]
  },
  {
   "cell_type": "code",
   "execution_count": null,
   "id": "c4ea5f31-dfa0-416a-974d-5f1ccba24c70",
   "metadata": {},
   "outputs": [],
   "source": [
    "for n in range(10):\n",
    "    print(n, \"\\t\", fib_rec(n))"
   ]
  },
  {
   "cell_type": "markdown",
   "id": "debdd277-319b-4dca-b97e-003a78e89c90",
   "metadata": {},
   "source": [
    "Benchmark"
   ]
  },
  {
   "cell_type": "code",
   "execution_count": null,
   "id": "e3ee0c5c-a8c2-4cf0-b622-a366caf1f592",
   "metadata": {},
   "outputs": [],
   "source": [
    "%%time\n",
    "fib_rec(33)\n"
   ]
  },
  {
   "cell_type": "markdown",
   "id": "0cbcce8f-22e3-4c75-be67-0e2f27c658ae",
   "metadata": {},
   "source": [
    "Tail Recursive Version of Fibonacci"
   ]
  },
  {
   "cell_type": "code",
   "execution_count": null,
   "id": "01265de7-69f4-4f4b-875a-fd7d92eb3557",
   "metadata": {},
   "outputs": [],
   "source": [
    "def fib_tail(n, a=1, b=0):\n",
    "    if n == 1:\n",
    "        return a\n",
    "    elif n <= 0:\n",
    "        return b\n",
    "    return fib_tail(n - 1, a + b, a)"
   ]
  },
  {
   "cell_type": "code",
   "execution_count": null,
   "id": "6dd37da0-57b7-4dc1-bbef-3a1e6c77d935",
   "metadata": {},
   "outputs": [],
   "source": [
    "for n in range(10):\n",
    "    print(n, \"\\t\", fib_tail(n))"
   ]
  },
  {
   "cell_type": "markdown",
   "id": "76c0ea7c-5d07-4e62-88ab-832cc23c2166",
   "metadata": {},
   "source": [
    "Benchmark"
   ]
  },
  {
   "cell_type": "code",
   "execution_count": null,
   "id": "e5c2cb96-c343-4e54-8efd-60e01247ca52",
   "metadata": {},
   "outputs": [],
   "source": [
    "%time\n",
    "fib_tail(40)"
   ]
  },
  {
   "cell_type": "code",
   "execution_count": null,
   "id": "eb0b56b5-b509-47f3-8a23-87aa45b95241",
   "metadata": {},
   "outputs": [],
   "source": []
  }
 ],
 "metadata": {
  "kernelspec": {
   "display_name": "Python 3 (ipykernel)",
   "language": "python",
   "name": "python3"
  },
  "language_info": {
   "codemirror_mode": {
    "name": "ipython",
    "version": 3
   },
   "file_extension": ".py",
   "mimetype": "text/x-python",
   "name": "python",
   "nbconvert_exporter": "python",
   "pygments_lexer": "ipython3",
   "version": "3.11.4"
  }
 },
 "nbformat": 4,
 "nbformat_minor": 5
}
