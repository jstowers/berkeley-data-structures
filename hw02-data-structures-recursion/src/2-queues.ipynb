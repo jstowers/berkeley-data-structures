{
 "cells": [
  {
   "cell_type": "markdown",
   "id": "bf2c2cb9-3653-4f7b-9db8-7157f8bd60f8",
   "metadata": {},
   "source": [
    "#### queues"
   ]
  },
  {
   "cell_type": "code",
   "execution_count": null,
   "id": "dc55223f-6fc7-4296-b445-c0d87da6fa8c",
   "metadata": {},
   "outputs": [],
   "source": [
    "from dsa.Queue import Queue"
   ]
  },
  {
   "cell_type": "code",
   "execution_count": null,
   "id": "95d5732b-2900-42a1-b75c-1ea0919461c4",
   "metadata": {},
   "outputs": [],
   "source": [
    "q = Queue()\n",
    "q.enqueue(10)\n",
    "print(q.peek())\n",
    "print(q)"
   ]
  },
  {
   "cell_type": "code",
   "execution_count": null,
   "id": "a01de1fb-f95b-4a1e-ba47-3dbe711cfe9d",
   "metadata": {},
   "outputs": [],
   "source": [
    "print(q.dequeue())\n",
    "print(q.is_empty())\n",
    "print(q.peek())"
   ]
  },
  {
   "cell_type": "code",
   "execution_count": null,
   "id": "256633b8-2e24-4a66-b42c-770ed62b07b4",
   "metadata": {},
   "outputs": [],
   "source": [
    "print(q)"
   ]
  },
  {
   "cell_type": "markdown",
   "id": "7d11e92a-a792-4408-afa5-61c5405c8a16",
   "metadata": {},
   "source": [
    "example with names"
   ]
  },
  {
   "cell_type": "code",
   "execution_count": null,
   "id": "136ecbcd-ebb3-4f0e-b0b3-e6283d901582",
   "metadata": {},
   "outputs": [],
   "source": [
    "q.enqueue(\"Alex\")\n",
    "q.enqueue(\"Beth\")\n",
    "q.enqueue(\"Chris\")\n",
    "q.enqueue(\"Dinh\")\n"
   ]
  },
  {
   "cell_type": "code",
   "execution_count": null,
   "id": "61fa9d9f-4338-4d50-bfc2-3be901c96e8b",
   "metadata": {},
   "outputs": [],
   "source": [
    "q"
   ]
  },
  {
   "cell_type": "code",
   "execution_count": null,
   "id": "b4f3c881-3e02-4dd3-bc52-0e49d6423f4a",
   "metadata": {},
   "outputs": [],
   "source": [
    "q.dequeue()"
   ]
  },
  {
   "cell_type": "code",
   "execution_count": null,
   "id": "19399e8e-6439-4c1b-a770-ce23d2a04f48",
   "metadata": {},
   "outputs": [],
   "source": [
    "q.dequeue()"
   ]
  },
  {
   "cell_type": "code",
   "execution_count": null,
   "id": "d4196259-9793-4777-8739-8370ee328e5e",
   "metadata": {},
   "outputs": [],
   "source": [
    "q"
   ]
  },
  {
   "cell_type": "code",
   "execution_count": null,
   "id": "f7814a86-feae-4153-ba6c-4484c40d8d5e",
   "metadata": {},
   "outputs": [],
   "source": [
    "q.enqueue(\"Eva\")"
   ]
  },
  {
   "cell_type": "code",
   "execution_count": null,
   "id": "6fcbfd75-c146-4e6d-8828-08d3577d4bac",
   "metadata": {},
   "outputs": [],
   "source": [
    "q"
   ]
  },
  {
   "cell_type": "code",
   "execution_count": null,
   "id": "c746969b-fc0d-42da-bd98-3dcea04801e3",
   "metadata": {},
   "outputs": [],
   "source": [
    "q.dequeue()"
   ]
  },
  {
   "cell_type": "code",
   "execution_count": null,
   "id": "936bdede-0bcb-43aa-8f08-72c9799bf3a3",
   "metadata": {},
   "outputs": [],
   "source": [
    "q"
   ]
  },
  {
   "cell_type": "code",
   "execution_count": null,
   "id": "14d6c0d8-8c1e-45c5-b9fc-1aa17ace0255",
   "metadata": {},
   "outputs": [],
   "source": [
    "q.dequeue()\n",
    "q.dequeue()\n",
    "q"
   ]
  },
  {
   "cell_type": "markdown",
   "id": "d85800e4-53a6-4bca-b300-84580479c741",
   "metadata": {},
   "source": [
    "example with numbers"
   ]
  },
  {
   "cell_type": "code",
   "execution_count": null,
   "id": "992bc8ac-0e82-465c-a85b-2765579b1cbe",
   "metadata": {},
   "outputs": [],
   "source": [
    "for i in range(10):\n",
    "    q.enqueue(i)\n",
    "print(q)"
   ]
  },
  {
   "cell_type": "code",
   "execution_count": null,
   "id": "1f3faa35-b44f-4381-97f6-6d9438a92f53",
   "metadata": {},
   "outputs": [],
   "source": [
    "while not q.is_empty():\n",
    "    print(q.dequeue())"
   ]
  },
  {
   "cell_type": "code",
   "execution_count": null,
   "id": "17d35bcd-e958-47fb-9fe7-b9ac37e6cf0b",
   "metadata": {},
   "outputs": [],
   "source": [
    "q"
   ]
  },
  {
   "cell_type": "code",
   "execution_count": null,
   "id": "ee449b28-fec4-417a-9b94-18ea51af6729",
   "metadata": {},
   "outputs": [],
   "source": [
    "q.dequeue()"
   ]
  },
  {
   "cell_type": "code",
   "execution_count": null,
   "id": "67198acf-2e00-48ce-9b8a-026f91a8d3ee",
   "metadata": {},
   "outputs": [],
   "source": []
  },
  {
   "cell_type": "code",
   "execution_count": null,
   "id": "69a7fce7-f1de-4d96-a205-8ca87016993c",
   "metadata": {},
   "outputs": [],
   "source": [
    "for i in range(11):\n",
    "    q.enqueue(i)\n",
    "print(q)"
   ]
  },
  {
   "cell_type": "code",
   "execution_count": null,
   "id": "44144a0b-a2c4-4fca-a75e-0d2454ed5973",
   "metadata": {},
   "outputs": [],
   "source": [
    "q"
   ]
  },
  {
   "cell_type": "code",
   "execution_count": null,
   "id": "a5cfcaf2-7170-461e-9a04-a0c01396ccfb",
   "metadata": {},
   "outputs": [],
   "source": [
    "q.dequeue()"
   ]
  },
  {
   "cell_type": "code",
   "execution_count": null,
   "id": "f0e69201-1c39-4d13-9861-d429f1a3f4d8",
   "metadata": {},
   "outputs": [],
   "source": [
    "q"
   ]
  },
  {
   "cell_type": "code",
   "execution_count": null,
   "id": "09717ee3-71a8-4b71-9aa1-2ef5854163ea",
   "metadata": {},
   "outputs": [],
   "source": [
    "q.dequeue()"
   ]
  },
  {
   "cell_type": "code",
   "execution_count": null,
   "id": "1dee01df-e200-40e1-a0f3-3e5202196e73",
   "metadata": {},
   "outputs": [],
   "source": [
    "q"
   ]
  },
  {
   "cell_type": "code",
   "execution_count": null,
   "id": "bc5ce581-663c-449f-94b7-ab89f81d2052",
   "metadata": {},
   "outputs": [],
   "source": [
    "q.enqueue(10)"
   ]
  },
  {
   "cell_type": "code",
   "execution_count": null,
   "id": "5cdffc08-5228-4156-92dd-d327c90719cb",
   "metadata": {},
   "outputs": [],
   "source": [
    "q.enqueue(11)"
   ]
  },
  {
   "cell_type": "code",
   "execution_count": null,
   "id": "3b510b7c-76f7-4bc6-be7d-7e4f89e8f65e",
   "metadata": {},
   "outputs": [],
   "source": [
    "q.enqueue(12)"
   ]
  },
  {
   "cell_type": "code",
   "execution_count": null,
   "id": "56bd4996-b1c9-40cb-862d-9a120595c482",
   "metadata": {},
   "outputs": [],
   "source": [
    "q"
   ]
  },
  {
   "cell_type": "code",
   "execution_count": null,
   "id": "eef6f550-fdc1-43ac-953e-1c6d49b3b867",
   "metadata": {},
   "outputs": [],
   "source": [
    "while not q.is_empty():\n",
    "    print(q.dequeue())"
   ]
  },
  {
   "cell_type": "markdown",
   "id": "0fe19d29-c830-4233-bc02-26cdfffa2002",
   "metadata": {},
   "source": [
    "#### queue overflow"
   ]
  },
  {
   "cell_type": "code",
   "execution_count": null,
   "id": "ef9fd501-80ff-4560-bc0e-22127b3856d0",
   "metadata": {},
   "outputs": [],
   "source": [
    "q = Queue()\n",
    "for i in range(100):\n",
    "    q.enqueue(i)\n",
    "print(q)"
   ]
  },
  {
   "cell_type": "markdown",
   "id": "596d1711-847f-4621-8781-c6e95b8a87b2",
   "metadata": {},
   "source": [
    "#### dynamic queue"
   ]
  },
  {
   "cell_type": "code",
   "execution_count": null,
   "id": "74078993-3068-4186-90d5-8e768c025490",
   "metadata": {},
   "outputs": [],
   "source": [
    "from dsa.Queue import DynamicQueue\n",
    "dq = DynamicQueue()\n",
    "for i in range(100):\n",
    "    dq.enqueue(i)\n",
    "print(dq)"
   ]
  },
  {
   "cell_type": "code",
   "execution_count": null,
   "id": "6b37c3f7-defb-4ac2-be2b-d843b6fb2194",
   "metadata": {},
   "outputs": [],
   "source": [
    "while not dq.is_empty():\n",
    "    print(dq.dequeue())\n",
    "print(dq)"
   ]
  }
 ],
 "metadata": {
  "kernelspec": {
   "display_name": "Python 3 (ipykernel)",
   "language": "python",
   "name": "python3"
  },
  "language_info": {
   "codemirror_mode": {
    "name": "ipython",
    "version": 3
   },
   "file_extension": ".py",
   "mimetype": "text/x-python",
   "name": "python",
   "nbconvert_exporter": "python",
   "pygments_lexer": "ipython3",
   "version": "3.11.4"
  }
 },
 "nbformat": 4,
 "nbformat_minor": 5
}
