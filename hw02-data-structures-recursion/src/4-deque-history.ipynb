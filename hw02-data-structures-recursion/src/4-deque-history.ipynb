{
 "cells": [
  {
   "cell_type": "code",
   "execution_count": null,
   "id": "b517900e-ce9d-48ee-90fd-e7fa70599430",
   "metadata": {},
   "outputs": [],
   "source": [
    "import deque\n",
    "\n",
    "def add_history(history, url, max_size=5):\n",
    "    if history.count >= max_size:\n",
    "        print(\"popped\")\n",
    "        history.pop_right()\n",
    "    history.append_left(url)\n",
    "\n",
    "    \n",
    "history = deque.Deque(5)\n",
    "print(history)"
   ]
  },
  {
   "cell_type": "code",
   "execution_count": null,
   "id": "d847cc4e-3300-464b-97ae-8a33883e0a3d",
   "metadata": {},
   "outputs": [],
   "source": [
    "add_history(history, \"amazon.com\")\n",
    "print(history)\n",
    "add_history(history, \"berkeley.edu\")\n",
    "print(history)\n",
    "add_history(history, \"www.ca.gov\")\n",
    "print(history)\n",
    "#print(history)"
   ]
  },
  {
   "cell_type": "code",
   "execution_count": null,
   "id": "9bb565bb-5667-454f-8600-b12296bf0af8",
   "metadata": {},
   "outputs": [],
   "source": [
    "print(history.peek_left())\n",
    "print(history.peek_right())"
   ]
  },
  {
   "cell_type": "code",
   "execution_count": null,
   "id": "d48834c8-6297-4fa5-812b-2cb880b22d31",
   "metadata": {},
   "outputs": [],
   "source": []
  },
  {
   "cell_type": "code",
   "execution_count": null,
   "id": "e79811e2-e3ca-4c5e-a27d-0944f4d0b3aa",
   "metadata": {},
   "outputs": [],
   "source": [
    "add_history(history, \"didi\")\n",
    "print(history)\n",
    "add_history(history, \"ebay.com\")\n",
    "print(history)\n",
    "add_history(history, \"facebook.com\")\n",
    "add_history(history, \"google.com\")\n",
    "print(history)\n",
    "print(history.peek_left())\n",
    "print(history.peek_right())"
   ]
  },
  {
   "cell_type": "code",
   "execution_count": null,
   "id": "fa61a0e1-db8f-406e-96b9-a11727451b8d",
   "metadata": {},
   "outputs": [],
   "source": [
    "import collections\n",
    "\n",
    "def add_history(history, url, max_size=5):\n",
    "    if len(history) >= max_size:\n",
    "        history.pop()\n",
    "    history.appendleft(url)\n",
    "\n",
    "    \n",
    "history = collections.deque()\n",
    "print(history)\n",
    "add_history(history, \"amazon.com\")\n",
    "add_history(history, \"berkeley.edu\")\n",
    "add_history(history, \"www.ca.gov\")\n",
    "print(history)\n",
    "add_history(history, \"didi\")\n",
    "print(history)\n",
    "add_history(history, \"ebay.com\")\n",
    "print(history)\n",
    "add_history(history, \"facebook.com\")\n",
    "add_history(history, \"google.com\")\n",
    "print(history)\n",
    "print(history[0])\n",
    "print(history[-1])"
   ]
  },
  {
   "cell_type": "code",
   "execution_count": null,
   "id": "214f5fa4-7693-4b7a-b7d3-1d2064cdea01",
   "metadata": {},
   "outputs": [],
   "source": [
    "dq = collections.deque()\n",
    "dq.append(\"A\")\n",
    "dq.appendleft(\"B\")\n",
    "dq.appendleft(\"C\")\n",
    "print(dq)\n",
    "print(dq[-1])\n",
    "print(dq[0])\n",
    "print(dq.popleft())\n",
    "print(dq.pop())\n",
    "print(dq)"
   ]
  },
  {
   "cell_type": "code",
   "execution_count": null,
   "id": "c47735c5-e980-4c6a-b883-0a0dc9b20245",
   "metadata": {},
   "outputs": [],
   "source": [
    "dq = collections.deque()\n",
    "dq.appendleft(\"A\")\n",
    "dq.append(\"B\")\n",
    "dq.append(\"C\")\n",
    "print(dq)\n",
    "print(dq[0])\n",
    "print(dq[-1])\n",
    "print(dq.pop())\n",
    "print(dq.popleft())\n",
    "print(dq)"
   ]
  },
  {
   "cell_type": "code",
   "execution_count": null,
   "id": "3809d8aa-b381-421a-9f41-e950da3fd0ca",
   "metadata": {},
   "outputs": [],
   "source": [
    "dq = deque.Deque()\n",
    "dq.append_right(\"A\")\n",
    "dq.append_left(\"B\")\n",
    "dq.append_left(\"C\")\n",
    "print(dq)\n",
    "print(dq.peek_right())\n",
    "print(dq.peek_left())\n",
    "print(dq.pop_left())\n",
    "print(dq.pop_right())\n",
    "print(dq)"
   ]
  },
  {
   "cell_type": "code",
   "execution_count": null,
   "id": "f40144ce-75d5-435b-bb0b-0e8821590d4a",
   "metadata": {},
   "outputs": [],
   "source": [
    "dq = deque.Deque()\n",
    "dq.append_left(\"A\")\n",
    "dq.append_right(\"B\")\n",
    "dq.append_right(\"C\")\n",
    "print(dq)\n",
    "print(dq.peek_left())\n",
    "print(dq.peek_right())\n",
    "print(dq.pop_right())\n",
    "print(dq.pop_left())\n",
    "print(dq)"
   ]
  },
  {
   "cell_type": "code",
   "execution_count": null,
   "id": "17fa4f54-8872-4adc-85ea-f08d00fd303b",
   "metadata": {},
   "outputs": [],
   "source": []
  }
 ],
 "metadata": {
  "kernelspec": {
   "display_name": "Python 3 (ipykernel)",
   "language": "python",
   "name": "python3"
  },
  "language_info": {
   "codemirror_mode": {
    "name": "ipython",
    "version": 3
   },
   "file_extension": ".py",
   "mimetype": "text/x-python",
   "name": "python",
   "nbconvert_exporter": "python",
   "pygments_lexer": "ipython3",
   "version": "3.11.4"
  }
 },
 "nbformat": 4,
 "nbformat_minor": 5
}
