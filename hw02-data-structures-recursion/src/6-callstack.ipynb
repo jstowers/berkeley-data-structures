{
 "cells": [
  {
   "cell_type": "code",
   "execution_count": null,
   "id": "eb0a5163-4b2d-4d3b-aac7-411a61ed7281",
   "metadata": {},
   "outputs": [],
   "source": [
    "def factorial(n):\n",
    "    if n <= 1:\n",
    "        return 1\n",
    "    return n * factorial(n - 1)\n",
    "\n",
    "factorial(5)"
   ]
  },
  {
   "cell_type": "markdown",
   "id": "d305074f-bed1-4df7-8464-b0efdfb3e78a",
   "metadata": {},
   "source": [
    "#### call stack limitation"
   ]
  },
  {
   "cell_type": "code",
   "execution_count": null,
   "id": "174be25f-521a-4fdc-8c91-3539102f42b5",
   "metadata": {
    "tags": []
   },
   "outputs": [],
   "source": [
    "factorial(10_000)"
   ]
  },
  {
   "cell_type": "code",
   "execution_count": null,
   "id": "d352ab9b-f35b-4d2c-ba70-a7d45d080070",
   "metadata": {},
   "outputs": [],
   "source": [
    "import sys\n",
    "sys.getrecursionlimit()"
   ]
  },
  {
   "cell_type": "code",
   "execution_count": null,
   "id": "ef20d541-5ca0-48f1-af94-8bca39e91ff2",
   "metadata": {},
   "outputs": [],
   "source": [
    "\n",
    "factorial(1000)"
   ]
  },
  {
   "cell_type": "code",
   "execution_count": null,
   "id": "54aa1310-3684-484a-abb6-3d83356ab1bb",
   "metadata": {},
   "outputs": [],
   "source": []
  }
 ],
 "metadata": {
  "kernelspec": {
   "display_name": "Python 3 (ipykernel)",
   "language": "python",
   "name": "python3"
  },
  "language_info": {
   "codemirror_mode": {
    "name": "ipython",
    "version": 3
   },
   "file_extension": ".py",
   "mimetype": "text/x-python",
   "name": "python",
   "nbconvert_exporter": "python",
   "pygments_lexer": "ipython3",
   "version": "3.11.4"
  }
 },
 "nbformat": 4,
 "nbformat_minor": 5
}
