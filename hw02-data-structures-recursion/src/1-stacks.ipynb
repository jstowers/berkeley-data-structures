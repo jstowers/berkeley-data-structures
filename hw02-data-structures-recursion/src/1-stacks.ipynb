{
 "cells": [
  {
   "cell_type": "markdown",
   "id": "4cd5bdc2-c834-4c33-ae8a-c6abfbf8173f",
   "metadata": {},
   "source": [
    "#### static stack demo"
   ]
  },
  {
   "cell_type": "code",
   "execution_count": null,
   "id": "aee9b6be-44c1-45ad-86e3-a2002c715294",
   "metadata": {},
   "outputs": [],
   "source": [
    "from dsa.Stack import Stack"
   ]
  },
  {
   "cell_type": "code",
   "execution_count": null,
   "id": "2e2dbfd9-4647-4644-bd76-810a988a67a1",
   "metadata": {},
   "outputs": [],
   "source": [
    "st = Stack()\n",
    "\n",
    "st.push(\"new document\")\n",
    "print(st.peek())\n",
    "print(st)\n",
    "\n",
    "\n"
   ]
  },
  {
   "cell_type": "code",
   "execution_count": null,
   "id": "621863c7-7094-4856-9e2c-3ca499c3ce13",
   "metadata": {},
   "outputs": [],
   "source": [
    "st.pop()"
   ]
  },
  {
   "cell_type": "code",
   "execution_count": null,
   "id": "a995d7f4-4d8b-4c72-ad07-556b0ecccee0",
   "metadata": {},
   "outputs": [],
   "source": [
    "st.peek()"
   ]
  },
  {
   "cell_type": "code",
   "execution_count": null,
   "id": "1dfc22c0-50a9-4f66-9e78-c12e9a42911c",
   "metadata": {},
   "outputs": [],
   "source": [
    "st"
   ]
  },
  {
   "cell_type": "code",
   "execution_count": null,
   "id": "809abab6-f525-4783-aa0c-032811086cb9",
   "metadata": {},
   "outputs": [],
   "source": [
    "st.push(\"new document\")\n",
    "st.push(\"copy document\")\n",
    "st.push(\"rename document\")\n",
    "st.push(\"delete document\")\n"
   ]
  },
  {
   "cell_type": "code",
   "execution_count": null,
   "id": "9fa7418e-f187-4f51-b050-f3509027d43e",
   "metadata": {},
   "outputs": [],
   "source": [
    "while not st.is_empty():\n",
    "    print(st.pop())\n"
   ]
  },
  {
   "cell_type": "code",
   "execution_count": null,
   "id": "8044c2be-9dfc-43cb-b80d-e9b276fe5b8f",
   "metadata": {},
   "outputs": [],
   "source": []
  },
  {
   "cell_type": "markdown",
   "id": "c5150141-4e35-44b0-9a28-fb60203883a8",
   "metadata": {},
   "source": [
    "#### push then pop"
   ]
  },
  {
   "cell_type": "code",
   "execution_count": null,
   "id": "c640ec4a-3ceb-4adf-aca2-bc60444563fb",
   "metadata": {},
   "outputs": [],
   "source": [
    "for n in range(10):\n",
    "    st.push(n)\n",
    "    print(st.peek())\n",
    "print(st)"
   ]
  },
  {
   "cell_type": "code",
   "execution_count": null,
   "id": "141d7cdf-d1ab-4229-9247-596ff4e8c474",
   "metadata": {},
   "outputs": [],
   "source": [
    "while not st.is_empty():\n",
    "    print(st.pop())"
   ]
  },
  {
   "cell_type": "markdown",
   "id": "f9a65df6-c959-44fc-9fa0-0eecf2cc2073",
   "metadata": {},
   "source": [
    "#### overflow demo"
   ]
  },
  {
   "cell_type": "code",
   "execution_count": null,
   "id": "c3a1e4a4-1fea-43de-a2c3-7b4708b5d6a1",
   "metadata": {},
   "outputs": [],
   "source": [
    "for n in range(10):\n",
    "    st.push(n)\n",
    "    print(st.peek())\n",
    "print(st)"
   ]
  },
  {
   "cell_type": "code",
   "execution_count": null,
   "id": "e59b7d73-e1f5-45ea-9bb8-7f54b8d71304",
   "metadata": {},
   "outputs": [],
   "source": [
    "st.push(11)"
   ]
  },
  {
   "cell_type": "markdown",
   "id": "141340ca-3004-4e4d-b836-c3d70c3567e7",
   "metadata": {},
   "source": [
    "#### dynamic stack demo"
   ]
  },
  {
   "cell_type": "code",
   "execution_count": null,
   "id": "8a31757d-88fc-4908-acfe-4be690d54ffc",
   "metadata": {},
   "outputs": [],
   "source": [
    "from dsa.Stack import DynamicStack\n",
    "\n",
    "ds = DynamicStack()\n",
    "ds.push(10)\n",
    "print(st.peek())\n",
    "print(st)"
   ]
  },
  {
   "cell_type": "code",
   "execution_count": null,
   "id": "4ee865aa-db33-4220-bfe8-47f353e5053b",
   "metadata": {},
   "outputs": [],
   "source": []
  },
  {
   "cell_type": "code",
   "execution_count": null,
   "id": "145f28d8-dd8f-4f50-b698-e46c5ab816ca",
   "metadata": {},
   "outputs": [],
   "source": [
    "for n in range(100):\n",
    "    ds.push(n)\n",
    "    print(ds.peek())\n",
    "print(ds)"
   ]
  },
  {
   "cell_type": "code",
   "execution_count": null,
   "id": "196b9421-bb5c-43f2-afa8-37d34d14f9fb",
   "metadata": {},
   "outputs": [],
   "source": []
  }
 ],
 "metadata": {
  "kernelspec": {
   "display_name": "Python 3 (ipykernel)",
   "language": "python",
   "name": "python3"
  },
  "language_info": {
   "codemirror_mode": {
    "name": "ipython",
    "version": 3
   },
   "file_extension": ".py",
   "mimetype": "text/x-python",
   "name": "python",
   "nbconvert_exporter": "python",
   "pygments_lexer": "ipython3",
   "version": "3.11.4"
  }
 },
 "nbformat": 4,
 "nbformat_minor": 5
}
