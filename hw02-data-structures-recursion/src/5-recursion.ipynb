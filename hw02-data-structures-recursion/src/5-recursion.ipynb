{
 "cells": [
  {
   "cell_type": "markdown",
   "id": "e79163f3-9a58-4a25-a4cf-3a7c8d4ec3ac",
   "metadata": {},
   "source": [
    "#### any iterative algorithm can be written recursively"
   ]
  },
  {
   "cell_type": "code",
   "execution_count": null,
   "id": "27a28097-58b9-4a87-95fc-ce0ab4d32193",
   "metadata": {},
   "outputs": [],
   "source": [
    "def factorial(n):\n",
    "    fact = 1\n",
    "    for i in range(2, n + 1):\n",
    "        fact *= i\n",
    "    return fact\n",
    "\n",
    "factorial(5)"
   ]
  },
  {
   "cell_type": "code",
   "execution_count": null,
   "id": "bbe9f48b-41fa-4a67-8e3a-d50c548735bc",
   "metadata": {},
   "outputs": [],
   "source": [
    "def factorial(n):\n",
    "    if n <= 1:\n",
    "        return 1\n",
    "    return n * factorial(n - 1)\n",
    "\n",
    "factorial(5)"
   ]
  },
  {
   "cell_type": "markdown",
   "id": "1fd944d5-877e-4e59-aa66-911158ea23cf",
   "metadata": {},
   "source": [
    "#### sum"
   ]
  },
  {
   "cell_type": "code",
   "execution_count": null,
   "id": "67fe441c-d23f-429c-b9a5-c1a66d2c392c",
   "metadata": {},
   "outputs": [],
   "source": [
    "def mysum(array):\n",
    "    total = 0\n",
    "    for n in array:\n",
    "        total += n\n",
    "    return total\n",
    "\n",
    "mysum([1, 2, 3, 10])"
   ]
  },
  {
   "cell_type": "code",
   "execution_count": null,
   "id": "14f8bbc6-1f44-440d-9ff9-1950d3b386df",
   "metadata": {},
   "outputs": [],
   "source": [
    "def mysum(array):\n",
    "    if len(array) == 0:\n",
    "        return 0\n",
    "    return array[0] + mysum(array[1:])\n",
    "\n",
    "mysum([1, 2, 3, 10])"
   ]
  },
  {
   "cell_type": "markdown",
   "id": "5756db18-4fdd-4f7c-a6df-e42fe83dab18",
   "metadata": {},
   "source": [
    "#### search"
   ]
  },
  {
   "cell_type": "code",
   "execution_count": null,
   "id": "cc89a206-6de4-40c4-b93a-30e561ab06db",
   "metadata": {},
   "outputs": [],
   "source": [
    "def search(array, target, i=0):\n",
    "    for i in range(len(array)):\n",
    "        if array[i] == target:\n",
    "            return i\n",
    "    return -1\n",
    "search([1, 2, 3, 4, 5], 7)"
   ]
  },
  {
   "cell_type": "code",
   "execution_count": null,
   "id": "34919b94-7f67-4a9b-9414-ea9f935c0463",
   "metadata": {},
   "outputs": [],
   "source": [
    "def search(array, target, i=0):\n",
    "    if i >= len(array):\n",
    "        return -1\n",
    "\n",
    "    if array[i] == target:\n",
    "        return i\n",
    "    else:\n",
    "        return search(array, target, i + 1)\n",
    "\n",
    "print(search([10, 20, 30, 40, 50], 50))\n",
    "print(search([10, 20, 30, 40, 50], 100))"
   ]
  },
  {
   "cell_type": "code",
   "execution_count": null,
   "id": "cfa89c59-290a-49a1-ad0e-8421de6fcab7",
   "metadata": {},
   "outputs": [],
   "source": [
    "def search(array, target, i=0):\n",
    "    if len(array) == 0:\n",
    "        return -1\n",
    "\n",
    "    if array[0] == target:\n",
    "        return i\n",
    "    else:\n",
    "        return search(array[1:], target, i + 1)\n",
    "\n",
    "print(search([10, 20, 30, 40, 50], 50))\n",
    "print(search([10, 20, 30, 40, 50], 100))"
   ]
  },
  {
   "cell_type": "code",
   "execution_count": null,
   "id": "c45fea77-9425-485f-980a-a75a05564fa9",
   "metadata": {},
   "outputs": [],
   "source": []
  }
 ],
 "metadata": {
  "kernelspec": {
   "display_name": "Python 3 (ipykernel)",
   "language": "python",
   "name": "python3"
  },
  "language_info": {
   "codemirror_mode": {
    "name": "ipython",
    "version": 3
   },
   "file_extension": ".py",
   "mimetype": "text/x-python",
   "name": "python",
   "nbconvert_exporter": "python",
   "pygments_lexer": "ipython3",
   "version": "3.11.4"
  }
 },
 "nbformat": 4,
 "nbformat_minor": 5
}
